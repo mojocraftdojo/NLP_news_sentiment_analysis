{
  "cells": [
    {
      "cell_type": "markdown",
      "metadata": {
        "id": "EJcrGjo0ntlP"
      },
      "source": [
        "# **(NLP) Sentiment Analysis on Financial News Headlines**"
      ]
    },
    {
      "cell_type": "markdown",
      "source": [
        "# **Objective**\n",
        "\n",
        "#### This analysis aims at predicting sentiments from financial news headlines from the perspective of retail investors using various deep learning NLP and traditional supervised machine learning modeling techniques.\n",
        "\n"
      ],
      "metadata": {
        "id": "PqUR1D9qkRRK"
      }
    },
    {
      "cell_type": "markdown",
      "source": [
        "## **Dataset**\n",
        "\n",
        "\n",
        "#### The dataset is composed of 4846 pieces of news headlines that have been assigned three sentiment ratings, which are \"Positive\"\", \"Negative\" and \"Neutral\", see below break down:"
      ],
      "metadata": {
        "id": "N0ftNL-nkc4Y"
      }
    },
    {
      "cell_type": "markdown",
      "source": [
        "## **Compare Deep Learning vs Traditional Supervised Learning Machine Learning approach**\n",
        "\n",
        "### * Multi-classes text classification ML models: through **scikit-learn** library and **NLP packages**\n",
        "### * Deep Learning: through **TensorFlow and Keras frameworks**"
      ],
      "metadata": {
        "id": "QOmopogvy7jo"
      }
    },
    {
      "cell_type": "code",
      "execution_count": null,
      "metadata": {
        "colab": {
          "base_uri": "https://localhost:8080/"
        },
        "id": "6cgJuPJ_sTbl",
        "outputId": "b9388e8a-a395-4ecc-9910-0906dc611fa2"
      },
      "outputs": [
        {
          "output_type": "stream",
          "name": "stdout",
          "text": [
            "Mounted at /content/drive\n"
          ]
        }
      ],
      "source": [
        "# Setup Google Colab dev\n",
        "from google.colab import drive\n",
        "drive.mount('/content/drive')"
      ]
    },
    {
      "cell_type": "code",
      "source": [
        "#Then change directory to the notebook directory.\n",
        "%cd \"/content/drive/My Drive/Colab Notebooks/sentiment_analysis\""
      ],
      "metadata": {
        "colab": {
          "base_uri": "https://localhost:8080/"
        },
        "id": "tFUptBRX1HuE",
        "outputId": "b69f8bd7-dff2-4f97-ec30-e347e2dfd53c"
      },
      "execution_count": null,
      "outputs": [
        {
          "output_type": "stream",
          "name": "stdout",
          "text": [
            "/content/drive/My Drive/Colab Notebooks/sentiment_analysis\n"
          ]
        }
      ]
    },
    {
      "cell_type": "markdown",
      "metadata": {
        "id": "qEjSh8RRn0Wj"
      },
      "source": [
        "## Check for GPU resource (Optional)"
      ]
    },
    {
      "cell_type": "code",
      "execution_count": null,
      "metadata": {
        "colab": {
          "base_uri": "https://localhost:8080/"
        },
        "id": "vGN7OUPjn2BW",
        "outputId": "75018570-452f-474d-d960-da9c40bc0764"
      },
      "outputs": [
        {
          "name": "stdout",
          "output_type": "stream",
          "text": [
            "GPU 0: Tesla T4 (UUID: GPU-358a13f6-4edf-be7a-8806-b4b3523582db)\n"
          ]
        }
      ],
      "source": [
        "!nvidia-smi -L"
      ]
    },
    {
      "cell_type": "markdown",
      "source": [
        "# **Import python Libraries**"
      ],
      "metadata": {
        "id": "Xt6r-oX6xmae"
      }
    },
    {
      "cell_type": "code",
      "source": [
        "import numpy as np\n",
        "import pandas as pd\n",
        "import matplotlib.pyplot as plt\n",
        "import seaborn as sns\n",
        "import re\n",
        "from bs4 import BeautifulSoup\n",
        "import random\n",
        "\n",
        "from sklearn.feature_extraction.text import TfidfVectorizer\n",
        "import tensorflow as tf\n",
        "from tensorflow.keras.layers import TextVectorization # after TensorFlow 2.6\n",
        "from tensorflow.keras import layers\n",
        "import tensorflow_hub as hub\n",
        "\n",
        "\n",
        "from sklearn.pipeline import Pipeline\n",
        "\n",
        "from sklearn.naive_bayes import MultinomialNB\n",
        "from sklearn.ensemble import RandomForestClassifier\n",
        "from xgboost import XGBClassifier\n",
        "from sklearn.svm import SVC\n",
        "from sklearn.linear_model import LogisticRegression\n",
        "\n",
        "from sklearn.metrics import precision_recall_fscore_support\n",
        "from sklearn.metrics import accuracy_score, confusion_matrix, classification_report, f1_score\n",
        "from sklearn.metrics import confusion_matrix, ConfusionMatrixDisplay\n",
        "\n",
        "\n"
      ],
      "metadata": {
        "id": "G4gB2eHMuhQQ"
      },
      "execution_count": null,
      "outputs": []
    },
    {
      "cell_type": "markdown",
      "source": [
        "#### Enable Display Ipython full output in cells"
      ],
      "metadata": {
        "id": "dSqtpsRz0MZy"
      }
    },
    {
      "cell_type": "code",
      "source": [
        "#Enable displaying full Ipython output\n",
        "import pandas as pd\n",
        "\n",
        "pd.set_option('display.max_rows', None)\n",
        "pd.set_option('display.max_columns', None)"
      ],
      "metadata": {
        "id": "mf0LRcr5uHxh"
      },
      "execution_count": null,
      "outputs": []
    },
    {
      "cell_type": "code",
      "source": [
        "#setup some Tensorflow output options\n",
        "import datetime\n",
        "\n",
        "def create_tensorboard_callback(dir_name, experiment_name):\n",
        "  \"\"\"\n",
        "  Creates a TensorBoard callback instand to store log files.\n",
        "\n",
        "  Stores log files with the filepath:\n",
        "    \"dir_name/experiment_name/current_datetime/\"\n",
        "\n",
        "  Args:\n",
        "    dir_name: target directory to store TensorBoard log files\n",
        "    experiment_name: name of experiment directory (e.g. efficientnet_model_1)\n",
        "  \"\"\"\n",
        "  log_dir = dir_name + \"/\" + experiment_name + \"/\" + datetime.datetime.now().strftime(\"%Y%m%d-%H%M%S\")\n",
        "  tensorboard_callback = tf.keras.callbacks.TensorBoard(\n",
        "      log_dir=log_dir\n",
        "  )\n",
        "  print(f\"Saving TensorBoard log files to: {log_dir}\")\n",
        "  return tensorboard_callback"
      ],
      "metadata": {
        "id": "EhN2ax0kyYy1"
      },
      "execution_count": null,
      "outputs": []
    },
    {
      "cell_type": "markdown",
      "source": [
        "# **Load Financial News Sentiment Text Dataset**\n",
        "\n",
        "### This dataset (FinancialPhraseBank) contains the sentiments for financial news headlines from the perspective of a retail investor.\n",
        "\n",
        "## it contains news text and three sentiment grades:\n",
        "\n",
        "> -- **Positive**\n",
        "\n",
        "> -- **Negative**\n",
        "\n",
        "> -- **Neutral**\n",
        "\n"
      ],
      "metadata": {
        "id": "G5HmKgnY5Y5b"
      }
    },
    {
      "cell_type": "code",
      "execution_count": null,
      "metadata": {
        "colab": {
          "base_uri": "https://localhost:8080/",
          "height": 237
        },
        "id": "gT2O6qZ4wsjM",
        "outputId": "00a988d9-18de-4ed8-f3af-13c2067b0c21"
      },
      "outputs": [
        {
          "output_type": "execute_result",
          "data": {
            "text/plain": [
              "  sentiment                                               text\n",
              "0   neutral  According to Gran , the company has no plans t...\n",
              "1   neutral  Technopolis plans to develop in stages an area...\n",
              "2  negative  The international electronic industry company ...\n",
              "3  positive  With the new production plant the company woul...\n",
              "4  positive  According to the company 's updated strategy f...\n",
              "5  positive  FINANCING OF ASPOCOMP 'S GROWTH Aspocomp is ag..."
            ],
            "text/html": [
              "\n",
              "  <div id=\"df-f8df2b29-e131-4e17-8889-4b3b913b25d6\" class=\"colab-df-container\">\n",
              "    <div>\n",
              "<style scoped>\n",
              "    .dataframe tbody tr th:only-of-type {\n",
              "        vertical-align: middle;\n",
              "    }\n",
              "\n",
              "    .dataframe tbody tr th {\n",
              "        vertical-align: top;\n",
              "    }\n",
              "\n",
              "    .dataframe thead th {\n",
              "        text-align: right;\n",
              "    }\n",
              "</style>\n",
              "<table border=\"1\" class=\"dataframe\">\n",
              "  <thead>\n",
              "    <tr style=\"text-align: right;\">\n",
              "      <th></th>\n",
              "      <th>sentiment</th>\n",
              "      <th>text</th>\n",
              "    </tr>\n",
              "  </thead>\n",
              "  <tbody>\n",
              "    <tr>\n",
              "      <th>0</th>\n",
              "      <td>neutral</td>\n",
              "      <td>According to Gran , the company has no plans t...</td>\n",
              "    </tr>\n",
              "    <tr>\n",
              "      <th>1</th>\n",
              "      <td>neutral</td>\n",
              "      <td>Technopolis plans to develop in stages an area...</td>\n",
              "    </tr>\n",
              "    <tr>\n",
              "      <th>2</th>\n",
              "      <td>negative</td>\n",
              "      <td>The international electronic industry company ...</td>\n",
              "    </tr>\n",
              "    <tr>\n",
              "      <th>3</th>\n",
              "      <td>positive</td>\n",
              "      <td>With the new production plant the company woul...</td>\n",
              "    </tr>\n",
              "    <tr>\n",
              "      <th>4</th>\n",
              "      <td>positive</td>\n",
              "      <td>According to the company 's updated strategy f...</td>\n",
              "    </tr>\n",
              "    <tr>\n",
              "      <th>5</th>\n",
              "      <td>positive</td>\n",
              "      <td>FINANCING OF ASPOCOMP 'S GROWTH Aspocomp is ag...</td>\n",
              "    </tr>\n",
              "  </tbody>\n",
              "</table>\n",
              "</div>\n",
              "    <div class=\"colab-df-buttons\">\n",
              "\n",
              "  <div class=\"colab-df-container\">\n",
              "    <button class=\"colab-df-convert\" onclick=\"convertToInteractive('df-f8df2b29-e131-4e17-8889-4b3b913b25d6')\"\n",
              "            title=\"Convert this dataframe to an interactive table.\"\n",
              "            style=\"display:none;\">\n",
              "\n",
              "  <svg xmlns=\"http://www.w3.org/2000/svg\" height=\"24px\" viewBox=\"0 -960 960 960\">\n",
              "    <path d=\"M120-120v-720h720v720H120Zm60-500h600v-160H180v160Zm220 220h160v-160H400v160Zm0 220h160v-160H400v160ZM180-400h160v-160H180v160Zm440 0h160v-160H620v160ZM180-180h160v-160H180v160Zm440 0h160v-160H620v160Z\"/>\n",
              "  </svg>\n",
              "    </button>\n",
              "\n",
              "  <style>\n",
              "    .colab-df-container {\n",
              "      display:flex;\n",
              "      gap: 12px;\n",
              "    }\n",
              "\n",
              "    .colab-df-convert {\n",
              "      background-color: #E8F0FE;\n",
              "      border: none;\n",
              "      border-radius: 50%;\n",
              "      cursor: pointer;\n",
              "      display: none;\n",
              "      fill: #1967D2;\n",
              "      height: 32px;\n",
              "      padding: 0 0 0 0;\n",
              "      width: 32px;\n",
              "    }\n",
              "\n",
              "    .colab-df-convert:hover {\n",
              "      background-color: #E2EBFA;\n",
              "      box-shadow: 0px 1px 2px rgba(60, 64, 67, 0.3), 0px 1px 3px 1px rgba(60, 64, 67, 0.15);\n",
              "      fill: #174EA6;\n",
              "    }\n",
              "\n",
              "    .colab-df-buttons div {\n",
              "      margin-bottom: 4px;\n",
              "    }\n",
              "\n",
              "    [theme=dark] .colab-df-convert {\n",
              "      background-color: #3B4455;\n",
              "      fill: #D2E3FC;\n",
              "    }\n",
              "\n",
              "    [theme=dark] .colab-df-convert:hover {\n",
              "      background-color: #434B5C;\n",
              "      box-shadow: 0px 1px 3px 1px rgba(0, 0, 0, 0.15);\n",
              "      filter: drop-shadow(0px 1px 2px rgba(0, 0, 0, 0.3));\n",
              "      fill: #FFFFFF;\n",
              "    }\n",
              "  </style>\n",
              "\n",
              "    <script>\n",
              "      const buttonEl =\n",
              "        document.querySelector('#df-f8df2b29-e131-4e17-8889-4b3b913b25d6 button.colab-df-convert');\n",
              "      buttonEl.style.display =\n",
              "        google.colab.kernel.accessAllowed ? 'block' : 'none';\n",
              "\n",
              "      async function convertToInteractive(key) {\n",
              "        const element = document.querySelector('#df-f8df2b29-e131-4e17-8889-4b3b913b25d6');\n",
              "        const dataTable =\n",
              "          await google.colab.kernel.invokeFunction('convertToInteractive',\n",
              "                                                    [key], {});\n",
              "        if (!dataTable) return;\n",
              "\n",
              "        const docLinkHtml = 'Like what you see? Visit the ' +\n",
              "          '<a target=\"_blank\" href=https://colab.research.google.com/notebooks/data_table.ipynb>data table notebook</a>'\n",
              "          + ' to learn more about interactive tables.';\n",
              "        element.innerHTML = '';\n",
              "        dataTable['output_type'] = 'display_data';\n",
              "        await google.colab.output.renderOutput(dataTable, element);\n",
              "        const docLink = document.createElement('div');\n",
              "        docLink.innerHTML = docLinkHtml;\n",
              "        element.appendChild(docLink);\n",
              "      }\n",
              "    </script>\n",
              "  </div>\n",
              "\n",
              "\n",
              "<div id=\"df-07adf7c0-5f15-49f6-898e-164388abd9a6\">\n",
              "  <button class=\"colab-df-quickchart\" onclick=\"quickchart('df-07adf7c0-5f15-49f6-898e-164388abd9a6')\"\n",
              "            title=\"Suggest charts.\"\n",
              "            style=\"display:none;\">\n",
              "\n",
              "<svg xmlns=\"http://www.w3.org/2000/svg\" height=\"24px\"viewBox=\"0 0 24 24\"\n",
              "     width=\"24px\">\n",
              "    <g>\n",
              "        <path d=\"M19 3H5c-1.1 0-2 .9-2 2v14c0 1.1.9 2 2 2h14c1.1 0 2-.9 2-2V5c0-1.1-.9-2-2-2zM9 17H7v-7h2v7zm4 0h-2V7h2v10zm4 0h-2v-4h2v4z\"/>\n",
              "    </g>\n",
              "</svg>\n",
              "  </button>\n",
              "\n",
              "<style>\n",
              "  .colab-df-quickchart {\n",
              "      --bg-color: #E8F0FE;\n",
              "      --fill-color: #1967D2;\n",
              "      --hover-bg-color: #E2EBFA;\n",
              "      --hover-fill-color: #174EA6;\n",
              "      --disabled-fill-color: #AAA;\n",
              "      --disabled-bg-color: #DDD;\n",
              "  }\n",
              "\n",
              "  [theme=dark] .colab-df-quickchart {\n",
              "      --bg-color: #3B4455;\n",
              "      --fill-color: #D2E3FC;\n",
              "      --hover-bg-color: #434B5C;\n",
              "      --hover-fill-color: #FFFFFF;\n",
              "      --disabled-bg-color: #3B4455;\n",
              "      --disabled-fill-color: #666;\n",
              "  }\n",
              "\n",
              "  .colab-df-quickchart {\n",
              "    background-color: var(--bg-color);\n",
              "    border: none;\n",
              "    border-radius: 50%;\n",
              "    cursor: pointer;\n",
              "    display: none;\n",
              "    fill: var(--fill-color);\n",
              "    height: 32px;\n",
              "    padding: 0;\n",
              "    width: 32px;\n",
              "  }\n",
              "\n",
              "  .colab-df-quickchart:hover {\n",
              "    background-color: var(--hover-bg-color);\n",
              "    box-shadow: 0 1px 2px rgba(60, 64, 67, 0.3), 0 1px 3px 1px rgba(60, 64, 67, 0.15);\n",
              "    fill: var(--button-hover-fill-color);\n",
              "  }\n",
              "\n",
              "  .colab-df-quickchart-complete:disabled,\n",
              "  .colab-df-quickchart-complete:disabled:hover {\n",
              "    background-color: var(--disabled-bg-color);\n",
              "    fill: var(--disabled-fill-color);\n",
              "    box-shadow: none;\n",
              "  }\n",
              "\n",
              "  .colab-df-spinner {\n",
              "    border: 2px solid var(--fill-color);\n",
              "    border-color: transparent;\n",
              "    border-bottom-color: var(--fill-color);\n",
              "    animation:\n",
              "      spin 1s steps(1) infinite;\n",
              "  }\n",
              "\n",
              "  @keyframes spin {\n",
              "    0% {\n",
              "      border-color: transparent;\n",
              "      border-bottom-color: var(--fill-color);\n",
              "      border-left-color: var(--fill-color);\n",
              "    }\n",
              "    20% {\n",
              "      border-color: transparent;\n",
              "      border-left-color: var(--fill-color);\n",
              "      border-top-color: var(--fill-color);\n",
              "    }\n",
              "    30% {\n",
              "      border-color: transparent;\n",
              "      border-left-color: var(--fill-color);\n",
              "      border-top-color: var(--fill-color);\n",
              "      border-right-color: var(--fill-color);\n",
              "    }\n",
              "    40% {\n",
              "      border-color: transparent;\n",
              "      border-right-color: var(--fill-color);\n",
              "      border-top-color: var(--fill-color);\n",
              "    }\n",
              "    60% {\n",
              "      border-color: transparent;\n",
              "      border-right-color: var(--fill-color);\n",
              "    }\n",
              "    80% {\n",
              "      border-color: transparent;\n",
              "      border-right-color: var(--fill-color);\n",
              "      border-bottom-color: var(--fill-color);\n",
              "    }\n",
              "    90% {\n",
              "      border-color: transparent;\n",
              "      border-bottom-color: var(--fill-color);\n",
              "    }\n",
              "  }\n",
              "</style>\n",
              "\n",
              "  <script>\n",
              "    async function quickchart(key) {\n",
              "      const quickchartButtonEl =\n",
              "        document.querySelector('#' + key + ' button');\n",
              "      quickchartButtonEl.disabled = true;  // To prevent multiple clicks.\n",
              "      quickchartButtonEl.classList.add('colab-df-spinner');\n",
              "      try {\n",
              "        const charts = await google.colab.kernel.invokeFunction(\n",
              "            'suggestCharts', [key], {});\n",
              "      } catch (error) {\n",
              "        console.error('Error during call to suggestCharts:', error);\n",
              "      }\n",
              "      quickchartButtonEl.classList.remove('colab-df-spinner');\n",
              "      quickchartButtonEl.classList.add('colab-df-quickchart-complete');\n",
              "    }\n",
              "    (() => {\n",
              "      let quickchartButtonEl =\n",
              "        document.querySelector('#df-07adf7c0-5f15-49f6-898e-164388abd9a6 button');\n",
              "      quickchartButtonEl.style.display =\n",
              "        google.colab.kernel.accessAllowed ? 'block' : 'none';\n",
              "    })();\n",
              "  </script>\n",
              "</div>\n",
              "    </div>\n",
              "  </div>\n"
            ]
          },
          "metadata": {},
          "execution_count": 39
        }
      ],
      "source": [
        "import pandas as pd\n",
        "import matplotlib.pyplot as plt\n",
        "import seaborn as sns\n",
        "\n",
        "df = pd.read_csv('all-data.csv',delimiter=',',header=None, encoding='latin-1')\n",
        "df = df.rename(columns={0:'sentiment',1:'text'})\n",
        "df.head(6)"
      ]
    },
    {
      "cell_type": "markdown",
      "source": [
        "# **EDA: Data Exploration and Cleaning**"
      ],
      "metadata": {
        "id": "x8qgki0p4kO0"
      }
    },
    {
      "cell_type": "code",
      "source": [
        "news_count = df['sentiment'].value_counts()\n",
        "plt.figure(figsize=(6,4))\n",
        "sns.barplot(y = news_count.index, x = news_count.values, alpha=0.6, palette = \"Set2\",orient='h')\n",
        "plt.ylabel('Number of Occurrences', fontsize=12)\n",
        "plt.xlabel('sentiment', fontsize=12)\n",
        "plt.xticks(rotation=45)\n",
        "plt.show();"
      ],
      "metadata": {
        "colab": {
          "base_uri": "https://localhost:8080/",
          "height": 413
        },
        "id": "w_8u1BAL4Y7b",
        "outputId": "b84f2800-14a3-45e3-df05-77d60ba51304"
      },
      "execution_count": null,
      "outputs": [
        {
          "output_type": "display_data",
          "data": {
            "text/plain": [
              "<Figure size 600x400 with 1 Axes>"
            ],
            "image/png": "[encoded data removed]"
          },
          "metadata": {}
        }
      ]
    },
    {
      "cell_type": "markdown",
      "source": [
        "#### Convert String Labels into numeric values"
      ],
      "metadata": {
        "id": "Wy6r6zZG2qi3"
      }
    },
    {
      "cell_type": "code",
      "execution_count": null,
      "metadata": {
        "colab": {
          "base_uri": "https://localhost:8080/"
        },
        "id": "u-_EXIBl1zJo",
        "outputId": "9269ee6e-c0c4-42bf-88c4-9dea47d5a46d"
      },
      "outputs": [
        {
          "output_type": "execute_result",
          "data": {
            "text/plain": [
              "1    2879\n",
              "0    1363\n",
              "2     604\n",
              "Name: sentiment, dtype: int64"
            ]
          },
          "metadata": {},
          "execution_count": 41
        }
      ],
      "source": [
        "#Convert label string to numeric\n",
        "sentiment  = {'positive': 0,'neutral': 1,'negative':2}\n",
        "sentiment\n",
        "df.sentiment = [sentiment[item] for item in df['sentiment']]\n",
        "\n",
        "df['sentiment'].value_counts()"
      ]
    },
    {
      "cell_type": "markdown",
      "source": [
        "#### Basic text string clearning"
      ],
      "metadata": {
        "id": "x1j9jfwm4yIb"
      }
    },
    {
      "cell_type": "code",
      "execution_count": null,
      "metadata": {
        "colab": {
          "base_uri": "https://localhost:8080/"
        },
        "id": "ka2GwfpxzuZC",
        "outputId": "25c20197-2b34-4263-f6bb-65889423f7be"
      },
      "outputs": [
        {
          "output_type": "stream",
          "name": "stderr",
          "text": [
            "<ipython-input-42-3037184704f0>:4: MarkupResemblesLocatorWarning: The input looks more like a filename than markup. You may want to open this file and pass the filehandle into Beautiful Soup.\n",
            "  text = BeautifulSoup(text, \"lxml\").text\n"
          ]
        }
      ],
      "source": [
        "from bs4 import BeautifulSoup\n",
        "import re\n",
        "def cleanText(text):\n",
        "    text = BeautifulSoup(text, \"lxml\").text\n",
        "    text = re.sub(r'\\|\\|\\|', r' ', text)\n",
        "    text = re.sub(r'http\\S+', r'<URL>', text)\n",
        "    text = text.lower()\n",
        "    text = text.replace('x', '')\n",
        "    return text\n",
        "\n",
        "df['text'] = df['text'].apply(cleanText)"
      ]
    },
    {
      "cell_type": "code",
      "execution_count": null,
      "metadata": {
        "colab": {
          "base_uri": "https://localhost:8080/"
        },
        "id": "tlAKfbD8z2Bl",
        "outputId": "f3103746-78a8-48e0-9924-2db5e6d35e75"
      },
      "outputs": [
        {
          "output_type": "execute_result",
          "data": {
            "text/plain": [
              "111989"
            ]
          },
          "metadata": {},
          "execution_count": 43
        }
      ],
      "source": [
        "### check total word counts after clean up\n",
        "df.index = range(len(df))\n",
        "df['text'].apply(lambda x: len(x.split(' '))).sum()"
      ]
    },
    {
      "cell_type": "code",
      "source": [
        "### check total unique word counts after clean up\n",
        "df.index = range(len(df))\n",
        "df['text'].apply(lambda x: len(x.split(' '))).unique().sum()"
      ],
      "metadata": {
        "colab": {
          "base_uri": "https://localhost:8080/"
        },
        "id": "f_fnqdfb39SX",
        "outputId": "be402a72-1c45-4702-8f6f-28a6b9263705"
      },
      "execution_count": null,
      "outputs": [
        {
          "output_type": "execute_result",
          "data": {
            "text/plain": [
              "1855"
            ]
          },
          "metadata": {},
          "execution_count": 44
        }
      ]
    },
    {
      "cell_type": "code",
      "source": [
        "### Display a sentence based on row index to verify the content\n",
        "def print_sentence(index):\n",
        "    example = df[df.index == index][['text', 'sentiment']].values[0]\n",
        "    if len(example) > 0:\n",
        "        print(example[0])\n",
        "        print('sentiment:', example[1])\n",
        "\n",
        "display(print_sentence(0))\n",
        "display(print_sentence(5))"
      ],
      "metadata": {
        "colab": {
          "base_uri": "https://localhost:8080/",
          "height": 128
        },
        "id": "UwzBGfBi3iFw",
        "outputId": "18b12853-b375-47bd-db18-d5a3625c00b3"
      },
      "execution_count": null,
      "outputs": [
        {
          "output_type": "stream",
          "name": "stdout",
          "text": [
            "according to gran , the company has no plans to move all production to russia , although that is where the company is growing .\n",
            "sentiment: 1\n"
          ]
        },
        {
          "output_type": "display_data",
          "data": {
            "text/plain": [
              "None"
            ]
          },
          "metadata": {}
        },
        {
          "output_type": "stream",
          "name": "stdout",
          "text": [
            "financing of aspocomp 's growth aspocomp is aggressively pursuing its growth strategy by increasingly focusing on technologically more demanding hdi printed circuit boards pcbs .\n",
            "sentiment: 0\n"
          ]
        },
        {
          "output_type": "display_data",
          "data": {
            "text/plain": [
              "None"
            ]
          },
          "metadata": {}
        }
      ]
    },
    {
      "cell_type": "markdown",
      "metadata": {
        "id": "QYdac_U0YP8m"
      },
      "source": [
        "# **Split Initial data into Training and Testing data set**"
      ]
    },
    {
      "cell_type": "markdown",
      "source": [
        "#### **Side note:** The testing data set will be set aside until the very last of this analysis. The training data will be further split into another training set and validation set for model training and validaiton."
      ],
      "metadata": {
        "id": "Mk25U7cvQjhJ"
      }
    },
    {
      "cell_type": "code",
      "execution_count": null,
      "metadata": {
        "colab": {
          "base_uri": "https://localhost:8080/",
          "height": 54
        },
        "id": "bOZEpQXlYOuv",
        "outputId": "70fb67de-25d6-4ad5-b3d8-4bf94982c504"
      },
      "outputs": [
        {
          "output_type": "display_data",
          "data": {
            "text/plain": [
              "3876"
            ]
          },
          "metadata": {}
        },
        {
          "output_type": "display_data",
          "data": {
            "text/plain": [
              "970"
            ]
          },
          "metadata": {}
        }
      ],
      "source": [
        "### Split data into training and validation dataset\n",
        "train_size = int(4 * len(df) / 5)\n",
        "display(train_size)\n",
        "\n",
        "test_size = len(df) - train_size\n",
        "display(test_size)"
      ]
    },
    {
      "cell_type": "markdown",
      "source": [
        "### Shuffle data so each time we can get different train and test set"
      ],
      "metadata": {
        "id": "cM6K_3hl8w5f"
      }
    },
    {
      "cell_type": "code",
      "execution_count": null,
      "metadata": {
        "colab": {
          "base_uri": "https://localhost:8080/"
        },
        "id": "WZVgOzVrCzjX",
        "outputId": "e0c2699a-fc49-4278-826f-6dd87b5e5e1b"
      },
      "outputs": [
        {
          "output_type": "stream",
          "name": "stdout",
          "text": [
            "Total training samples: 3876\n",
            "Total test samples: 970\n",
            "Total samples: 4846\n"
          ]
        }
      ],
      "source": [
        "#shffle training data, so we can train on random sentences\n",
        "import random\n",
        "\n",
        "random_seed = 42\n",
        "\n",
        "df_shuffled = df.sample(frac=1, random_state=random_seed)\n",
        "df_shuffled.head()\n",
        "\n",
        "train_df = df_shuffled.iloc[0:train_size,:]\n",
        "test_df = df_shuffled.iloc[train_size:,:]\n",
        "\n",
        "\n",
        "print(f\"Total training samples: {len(train_df)}\")\n",
        "print(f\"Total test samples: {len(test_df)}\")\n",
        "print(f\"Total samples: {len(train_df) + len(test_df)}\")"
      ]
    },
    {
      "cell_type": "markdown",
      "metadata": {
        "id": "u6lZE3sY3GTF"
      },
      "source": [
        "### Check the labels in Training set\n",
        "\n"
      ]
    },
    {
      "cell_type": "code",
      "execution_count": null,
      "metadata": {
        "colab": {
          "base_uri": "https://localhost:8080/"
        },
        "id": "oJFrL2aH3mg4",
        "outputId": "83ab0290-bc7c-4b58-901e-458fe902c827"
      },
      "outputs": [
        {
          "output_type": "execute_result",
          "data": {
            "text/plain": [
              "1    2290\n",
              "0    1109\n",
              "2     477\n",
              "Name: sentiment, dtype: int64"
            ]
          },
          "metadata": {},
          "execution_count": 53
        }
      ],
      "source": [
        "train_df['sentiment'].value_counts()"
      ]
    },
    {
      "cell_type": "code",
      "execution_count": null,
      "metadata": {
        "colab": {
          "base_uri": "https://localhost:8080/",
          "height": 206
        },
        "id": "s-ae__PAJTSU",
        "outputId": "5df03a3b-6a81-48da-cf9b-dbf9d9a1c294"
      },
      "outputs": [
        {
          "output_type": "execute_result",
          "data": {
            "text/plain": [
              "      sentiment                                               text\n",
              "3207          1  the company was supposed to deliver machinery ...\n",
              "1684          1  unc charlotte would also deploy ssh tectia con...\n",
              "1044          1  in 2009 , lee & man had a combined annual prod...\n",
              "4145          1  `` that 's a very high figure on the european ...\n",
              "1538          1  in finland , the corresponding service is alma..."
            ],
            "text/html": [
              "\n",
              "  <div id=\"df-c5af9f8d-c3f3-4ed9-9d3e-60b5e04a851f\" class=\"colab-df-container\">\n",
              "    <div>\n",
              "<style scoped>\n",
              "    .dataframe tbody tr th:only-of-type {\n",
              "        vertical-align: middle;\n",
              "    }\n",
              "\n",
              "    .dataframe tbody tr th {\n",
              "        vertical-align: top;\n",
              "    }\n",
              "\n",
              "    .dataframe thead th {\n",
              "        text-align: right;\n",
              "    }\n",
              "</style>\n",
              "<table border=\"1\" class=\"dataframe\">\n",
              "  <thead>\n",
              "    <tr style=\"text-align: right;\">\n",
              "      <th></th>\n",
              "      <th>sentiment</th>\n",
              "      <th>text</th>\n",
              "    </tr>\n",
              "  </thead>\n",
              "  <tbody>\n",
              "    <tr>\n",
              "      <th>3207</th>\n",
              "      <td>1</td>\n",
              "      <td>the company was supposed to deliver machinery ...</td>\n",
              "    </tr>\n",
              "    <tr>\n",
              "      <th>1684</th>\n",
              "      <td>1</td>\n",
              "      <td>unc charlotte would also deploy ssh tectia con...</td>\n",
              "    </tr>\n",
              "    <tr>\n",
              "      <th>1044</th>\n",
              "      <td>1</td>\n",
              "      <td>in 2009 , lee &amp; man had a combined annual prod...</td>\n",
              "    </tr>\n",
              "    <tr>\n",
              "      <th>4145</th>\n",
              "      <td>1</td>\n",
              "      <td>`` that 's a very high figure on the european ...</td>\n",
              "    </tr>\n",
              "    <tr>\n",
              "      <th>1538</th>\n",
              "      <td>1</td>\n",
              "      <td>in finland , the corresponding service is alma...</td>\n",
              "    </tr>\n",
              "  </tbody>\n",
              "</table>\n",
              "</div>\n",
              "    <div class=\"colab-df-buttons\">\n",
              "\n",
              "  <div class=\"colab-df-container\">\n",
              "    <button class=\"colab-df-convert\" onclick=\"convertToInteractive('df-c5af9f8d-c3f3-4ed9-9d3e-60b5e04a851f')\"\n",
              "            title=\"Convert this dataframe to an interactive table.\"\n",
              "            style=\"display:none;\">\n",
              "\n",
              "  <svg xmlns=\"http://www.w3.org/2000/svg\" height=\"24px\" viewBox=\"0 -960 960 960\">\n",
              "    <path d=\"M120-120v-720h720v720H120Zm60-500h600v-160H180v160Zm220 220h160v-160H400v160Zm0 220h160v-160H400v160ZM180-400h160v-160H180v160Zm440 0h160v-160H620v160ZM180-180h160v-160H180v160Zm440 0h160v-160H620v160Z\"/>\n",
              "  </svg>\n",
              "    </button>\n",
              "\n",
              "  <style>\n",
              "    .colab-df-container {\n",
              "      display:flex;\n",
              "      gap: 12px;\n",
              "    }\n",
              "\n",
              "    .colab-df-convert {\n",
              "      background-color: #E8F0FE;\n",
              "      border: none;\n",
              "      border-radius: 50%;\n",
              "      cursor: pointer;\n",
              "      display: none;\n",
              "      fill: #1967D2;\n",
              "      height: 32px;\n",
              "      padding: 0 0 0 0;\n",
              "      width: 32px;\n",
              "    }\n",
              "\n",
              "    .colab-df-convert:hover {\n",
              "      background-color: #E2EBFA;\n",
              "      box-shadow: 0px 1px 2px rgba(60, 64, 67, 0.3), 0px 1px 3px 1px rgba(60, 64, 67, 0.15);\n",
              "      fill: #174EA6;\n",
              "    }\n",
              "\n",
              "    .colab-df-buttons div {\n",
              "      margin-bottom: 4px;\n",
              "    }\n",
              "\n",
              "    [theme=dark] .colab-df-convert {\n",
              "      background-color: #3B4455;\n",
              "      fill: #D2E3FC;\n",
              "    }\n",
              "\n",
              "    [theme=dark] .colab-df-convert:hover {\n",
              "      background-color: #434B5C;\n",
              "      box-shadow: 0px 1px 3px 1px rgba(0, 0, 0, 0.15);\n",
              "      filter: drop-shadow(0px 1px 2px rgba(0, 0, 0, 0.3));\n",
              "      fill: #FFFFFF;\n",
              "    }\n",
              "  </style>\n",
              "\n",
              "    <script>\n",
              "      const buttonEl =\n",
              "        document.querySelector('#df-c5af9f8d-c3f3-4ed9-9d3e-60b5e04a851f button.colab-df-convert');\n",
              "      buttonEl.style.display =\n",
              "        google.colab.kernel.accessAllowed ? 'block' : 'none';\n",
              "\n",
              "      async function convertToInteractive(key) {\n",
              "        const element = document.querySelector('#df-c5af9f8d-c3f3-4ed9-9d3e-60b5e04a851f');\n",
              "        const dataTable =\n",
              "          await google.colab.kernel.invokeFunction('convertToInteractive',\n",
              "                                                    [key], {});\n",
              "        if (!dataTable) return;\n",
              "\n",
              "        const docLinkHtml = 'Like what you see? Visit the ' +\n",
              "          '<a target=\"_blank\" href=https://colab.research.google.com/notebooks/data_table.ipynb>data table notebook</a>'\n",
              "          + ' to learn more about interactive tables.';\n",
              "        element.innerHTML = '';\n",
              "        dataTable['output_type'] = 'display_data';\n",
              "        await google.colab.output.renderOutput(dataTable, element);\n",
              "        const docLink = document.createElement('div');\n",
              "        docLink.innerHTML = docLinkHtml;\n",
              "        element.appendChild(docLink);\n",
              "      }\n",
              "    </script>\n",
              "  </div>\n",
              "\n",
              "\n",
              "<div id=\"df-374581c5-2df9-47d8-8d21-36026de33465\">\n",
              "  <button class=\"colab-df-quickchart\" onclick=\"quickchart('df-374581c5-2df9-47d8-8d21-36026de33465')\"\n",
              "            title=\"Suggest charts.\"\n",
              "            style=\"display:none;\">\n",
              "\n",
              "<svg xmlns=\"http://www.w3.org/2000/svg\" height=\"24px\"viewBox=\"0 0 24 24\"\n",
              "     width=\"24px\">\n",
              "    <g>\n",
              "        <path d=\"M19 3H5c-1.1 0-2 .9-2 2v14c0 1.1.9 2 2 2h14c1.1 0 2-.9 2-2V5c0-1.1-.9-2-2-2zM9 17H7v-7h2v7zm4 0h-2V7h2v10zm4 0h-2v-4h2v4z\"/>\n",
              "    </g>\n",
              "</svg>\n",
              "  </button>\n",
              "\n",
              "<style>\n",
              "  .colab-df-quickchart {\n",
              "      --bg-color: #E8F0FE;\n",
              "      --fill-color: #1967D2;\n",
              "      --hover-bg-color: #E2EBFA;\n",
              "      --hover-fill-color: #174EA6;\n",
              "      --disabled-fill-color: #AAA;\n",
              "      --disabled-bg-color: #DDD;\n",
              "  }\n",
              "\n",
              "  [theme=dark] .colab-df-quickchart {\n",
              "      --bg-color: #3B4455;\n",
              "      --fill-color: #D2E3FC;\n",
              "      --hover-bg-color: #434B5C;\n",
              "      --hover-fill-color: #FFFFFF;\n",
              "      --disabled-bg-color: #3B4455;\n",
              "      --disabled-fill-color: #666;\n",
              "  }\n",
              "\n",
              "  .colab-df-quickchart {\n",
              "    background-color: var(--bg-color);\n",
              "    border: none;\n",
              "    border-radius: 50%;\n",
              "    cursor: pointer;\n",
              "    display: none;\n",
              "    fill: var(--fill-color);\n",
              "    height: 32px;\n",
              "    padding: 0;\n",
              "    width: 32px;\n",
              "  }\n",
              "\n",
              "  .colab-df-quickchart:hover {\n",
              "    background-color: var(--hover-bg-color);\n",
              "    box-shadow: 0 1px 2px rgba(60, 64, 67, 0.3), 0 1px 3px 1px rgba(60, 64, 67, 0.15);\n",
              "    fill: var(--button-hover-fill-color);\n",
              "  }\n",
              "\n",
              "  .colab-df-quickchart-complete:disabled,\n",
              "  .colab-df-quickchart-complete:disabled:hover {\n",
              "    background-color: var(--disabled-bg-color);\n",
              "    fill: var(--disabled-fill-color);\n",
              "    box-shadow: none;\n",
              "  }\n",
              "\n",
              "  .colab-df-spinner {\n",
              "    border: 2px solid var(--fill-color);\n",
              "    border-color: transparent;\n",
              "    border-bottom-color: var(--fill-color);\n",
              "    animation:\n",
              "      spin 1s steps(1) infinite;\n",
              "  }\n",
              "\n",
              "  @keyframes spin {\n",
              "    0% {\n",
              "      border-color: transparent;\n",
              "      border-bottom-color: var(--fill-color);\n",
              "      border-left-color: var(--fill-color);\n",
              "    }\n",
              "    20% {\n",
              "      border-color: transparent;\n",
              "      border-left-color: var(--fill-color);\n",
              "      border-top-color: var(--fill-color);\n",
              "    }\n",
              "    30% {\n",
              "      border-color: transparent;\n",
              "      border-left-color: var(--fill-color);\n",
              "      border-top-color: var(--fill-color);\n",
              "      border-right-color: var(--fill-color);\n",
              "    }\n",
              "    40% {\n",
              "      border-color: transparent;\n",
              "      border-right-color: var(--fill-color);\n",
              "      border-top-color: var(--fill-color);\n",
              "    }\n",
              "    60% {\n",
              "      border-color: transparent;\n",
              "      border-right-color: var(--fill-color);\n",
              "    }\n",
              "    80% {\n",
              "      border-color: transparent;\n",
              "      border-right-color: var(--fill-color);\n",
              "      border-bottom-color: var(--fill-color);\n",
              "    }\n",
              "    90% {\n",
              "      border-color: transparent;\n",
              "      border-bottom-color: var(--fill-color);\n",
              "    }\n",
              "  }\n",
              "</style>\n",
              "\n",
              "  <script>\n",
              "    async function quickchart(key) {\n",
              "      const quickchartButtonEl =\n",
              "        document.querySelector('#' + key + ' button');\n",
              "      quickchartButtonEl.disabled = true;  // To prevent multiple clicks.\n",
              "      quickchartButtonEl.classList.add('colab-df-spinner');\n",
              "      try {\n",
              "        const charts = await google.colab.kernel.invokeFunction(\n",
              "            'suggestCharts', [key], {});\n",
              "      } catch (error) {\n",
              "        console.error('Error during call to suggestCharts:', error);\n",
              "      }\n",
              "      quickchartButtonEl.classList.remove('colab-df-spinner');\n",
              "      quickchartButtonEl.classList.add('colab-df-quickchart-complete');\n",
              "    }\n",
              "    (() => {\n",
              "      let quickchartButtonEl =\n",
              "        document.querySelector('#df-374581c5-2df9-47d8-8d21-36026de33465 button');\n",
              "      quickchartButtonEl.style.display =\n",
              "        google.colab.kernel.accessAllowed ? 'block' : 'none';\n",
              "    })();\n",
              "  </script>\n",
              "</div>\n",
              "    </div>\n",
              "  </div>\n"
            ]
          },
          "metadata": {},
          "execution_count": 52
        }
      ],
      "source": [
        "train_df.head(5)"
      ]
    },
    {
      "cell_type": "markdown",
      "metadata": {
        "id": "nunI-eAN3rJ9"
      },
      "source": [
        "# **Creating Validation Data Set**\n",
        "\n",
        "#### Subsetting Training set into another training and validation set\n",
        "#### Randomize sequences of data and shuffling the text messages"
      ]
    },
    {
      "cell_type": "code",
      "execution_count": null,
      "metadata": {
        "colab": {
          "base_uri": "https://localhost:8080/"
        },
        "id": "z7PlIuiMJ5sW",
        "outputId": "a73291c0-1c1f-4c17-a94c-44cd8cff9565"
      },
      "outputs": [
        {
          "output_type": "stream",
          "name": "stdout",
          "text": [
            "Total training samples: 3876\n",
            "++++++++++++++\n",
            "Total training lebels: 3100\n",
            "Distribution of training labels\n",
            "0 occurs 876 times\n",
            "1 occurs 1849 times\n",
            "2 occurs 375 times\n",
            "++++++++++++++\n",
            "Total validation labels: 776\n",
            "Distribution of validation labels\n",
            "0 occurs 233 times\n",
            "1 occurs 441 times\n",
            "2 occurs 102 times\n"
          ]
        }
      ],
      "source": [
        "### Split training data into training and validation dataset\n",
        "import numpy as np\n",
        "import random\n",
        "\n",
        "\n",
        "#shffle training data\n",
        "train_df_shuffled = train_df.sample(frac=1, random_state=42)\n",
        "#train_df_shuffled.head()\n",
        "\n",
        "from sklearn.model_selection import train_test_split\n",
        "X_train_v, X_val, y_train_v, y_val = train_test_split(train_df_shuffled['text'].to_numpy(), train_df_shuffled['sentiment'].to_numpy(), test_size = 0.2, random_state=100)\n",
        "\n",
        "# How many samples total?\n",
        "print(f\"Total training samples: {len(X_train_v) + len(X_val)}\")\n",
        "\n",
        "print(\"++++++++++++++\")\n",
        "print(f\"Total training lebels: {len(y_train_v)}\")\n",
        "\n",
        "print(\"Distribution of training labels\")\n",
        "# Get the unique values and their counts\n",
        "unique_values, counts = np.unique(y_train_v, return_counts=True)\n",
        "# Print the results\n",
        "for value, count in zip(unique_values, counts):\n",
        "    print(f\"{value} occurs {count} times\")\n",
        "\n",
        "print(\"++++++++++++++\")\n",
        "print(f\"Total validation labels: {len(y_val)}\")\n",
        "print(\"Distribution of validation labels\")\n",
        "# Get the unique values and their counts\n",
        "unique_values, counts = np.unique(y_val, return_counts=True)\n",
        "# Print the results\n",
        "for value, count in zip(unique_values, counts):\n",
        "    print(f\"{value} occurs {count} times\")\n"
      ]
    },
    {
      "cell_type": "code",
      "source": [
        "### Display a set of shuffled data\n",
        "num_of_sentences = 3\n",
        "random_index = random.randint(0, len(train_df)-num_of_sentences)\n",
        "for row in train_df_shuffled[[\"text\", \"sentiment\"]][random_index:random_index+num_of_sentences].itertuples():\n",
        "  _, text, sentiment = row\n",
        "  print(f\"Sentiment:  {sentiment}\", \"(Positive)\" if sentiment == 0  else \"(Neutral or negative)\")\n",
        "  print(f\"Sentences:  {text}\\n\")"
      ],
      "metadata": {
        "colab": {
          "base_uri": "https://localhost:8080/"
        },
        "id": "467CwVhk9hC-",
        "outputId": "d5186b30-2713-436c-d240-f093fd93cc72"
      },
      "execution_count": null,
      "outputs": [
        {
          "output_type": "stream",
          "name": "stdout",
          "text": [
            "Sentiment:  1 (Neutral or negative)\n",
            "Sentences:  kesko has previously published a stock echange release concerning the deal on 7 february 2007 .\n",
            "\n",
            "Sentiment:  1 (Neutral or negative)\n",
            "Sentences:  the total restructuring costs are epected to be about eur 30mn , of which eur 13.5 mn was booked in december 2008 .\n",
            "\n",
            "Sentiment:  2 (Neutral or negative)\n",
            "Sentences:  the operating margin came down to 2.4 % from 5.7 % .\n",
            "\n"
          ]
        }
      ]
    },
    {
      "cell_type": "markdown",
      "metadata": {
        "id": "zdQy5cmmxeMw"
      },
      "source": [
        "# **Modeling to Predict Sentiment in the Financial News**"
      ]
    },
    {
      "cell_type": "markdown",
      "source": [
        "### More specifically, we're addressing the NLP problem by building the follow Text Classification models:\n",
        "\n",
        ">### **Classic Supervised learning models( Scikit-learn)**\n",
        ">> #### Model 0: Naive Bayes (baseline)\n",
        ">> #### Model 1: Random Forest\n",
        ">> #### Model 2: XGBoost\n",
        ">> #### Model 3: Support Vector Machine\n",
        ">> #### Model 4: Logistic Regression\n",
        "\n",
        ">### **Deep Learning with NLP text preprocessing (TensorFlow/Keras)**\n",
        ">>#### Model 5: RNNs (LSTM)\n",
        ">>#### Model 6: TensorFlow Hub Pretrained Feature Extractor (Transfer Learning use USE)"
      ],
      "metadata": {
        "id": "T0vJaXia_k4d"
      }
    },
    {
      "cell_type": "markdown",
      "metadata": {
        "id": "rdsjY-d76qEG"
      },
      "source": [
        "# **Model Performance Metrics**\n",
        "\n",
        "#### First, create an model evaluation function for our modeling experiments\n"
      ]
    },
    {
      "cell_type": "markdown",
      "source": [
        "## **Accuracy, Precision, Recall, F1-score, confusion matrix**\n",
        "For multi-classes problems, weighted scores will be used."
      ],
      "metadata": {
        "id": "FxyO9NRbTIw7"
      }
    },
    {
      "cell_type": "code",
      "execution_count": null,
      "metadata": {
        "id": "HOSx9YU6kyr_"
      },
      "outputs": [],
      "source": [
        "# Functions to evaluate models\n",
        "from sklearn.metrics import accuracy_score, confusion_matrix, classification_report, f1_score\n",
        "\n",
        "def print_score(label, prediction, train=True):\n",
        "    if train:\n",
        "        clf_report = pd.DataFrame(classification_report(label, prediction, output_dict=True))\n",
        "        print(\"Train results:\\n================================================\")\n",
        "        print(f\"Accuracy: {accuracy_score(label, prediction) * 100:.2f}%\")\n",
        "        print(\"_______________________________________________\")\n",
        "        print(f\"Classification Performance:\\n{clf_report}\")\n",
        "        print(\"_______________________________________________\")\n",
        "        print(f\"Confusion Matrix: \\n {confusion_matrix(y_train, prediction)}\\n\")\n",
        "\n",
        "    elif train==False:\n",
        "        clf_report = pd.DataFrame(classification_report(label, prediction, output_dict=True))\n",
        "        print(\"Test Results:\\n================================================\")\n",
        "        print(f\"Accuracy: {accuracy_score(label, prediction) * 100:.2f}%\")\n",
        "        print(\"_______________________________________________\")\n",
        "        print(f\"Classification Performance:\\n{clf_report}\")\n",
        "        print(\"_______________________________________________\")\n",
        "        print(f\"Confusion Matrix: \\n {confusion_matrix(label, prediction)}\\n\")"
      ]
    },
    {
      "cell_type": "markdown",
      "source": [
        "## **Confusion Matrix Plot**"
      ],
      "metadata": {
        "id": "5QONc9XgTCZ7"
      }
    },
    {
      "cell_type": "code",
      "execution_count": null,
      "metadata": {
        "id": "6gZxPpAzoKpb"
      },
      "outputs": [],
      "source": [
        "## Display a nicer visualization of confusion matrix\n",
        "from sklearn.metrics import confusion_matrix, ConfusionMatrixDisplay\n",
        "\n",
        "def display_confusion_matrix(y_test, y_pred, classifier):\n",
        "\n",
        "    cm=confusion_matrix(y_test, y_pred)\n",
        "\n",
        "    plt.figure(figsize=(2,2))\n",
        "    disp = ConfusionMatrixDisplay(confusion_matrix=cm, display_labels=classifier.classes_)\n",
        "    disp.plot()\n",
        "\n"
      ]
    },
    {
      "cell_type": "markdown",
      "metadata": {
        "id": "BYwwszHnVaN-"
      },
      "source": [
        "#### Create and initiate a dictionary to store F1 score so that all models can be compared using the same criteria"
      ]
    },
    {
      "cell_type": "code",
      "execution_count": null,
      "metadata": {
        "id": "vvsVLETCOOvU"
      },
      "outputs": [],
      "source": [
        "#Initialize a dictionary to store the F1 score for various models\n",
        "f1_score_metrics = dict()"
      ]
    },
    {
      "cell_type": "markdown",
      "metadata": {
        "id": "TwHExmqh4SCN"
      },
      "source": [
        "# **Model 0: Naive Bayes (Baseline)**\n"
      ]
    },
    {
      "cell_type": "code",
      "execution_count": null,
      "metadata": {
        "colab": {
          "base_uri": "https://localhost:8080/"
        },
        "id": "J5JXeNaR4T0A",
        "outputId": "5c14afad-9946-4241-93fa-767dc756750c"
      },
      "outputs": [
        {
          "output_type": "stream",
          "name": "stdout",
          "text": [
            "Cross-validation scores: [0.65       0.67419355 0.67419355 0.68709677 0.67741935]\n",
            "Mean f1 score: 0.6725806451612903\n"
          ]
        }
      ],
      "source": [
        "#Model 0 : Naive Bayes (baseline) sklearn Multinomal Naive Bayes using TF-IDF formula to convert the words into numbers\n",
        "\n",
        "from sklearn.feature_extraction.text import TfidfVectorizer\n",
        "from sklearn.naive_bayes import MultinomialNB\n",
        "from sklearn.pipeline import Pipeline\n",
        "\n",
        "# Create tokenization and modelling pipeline\n",
        "model_0 = Pipeline([\n",
        "                    (\"tfidf\", TfidfVectorizer()), # convert words to numbers using tfidf\n",
        "                    (\"clf\", MultinomialNB()) # model the text using ML models\n",
        "])\n",
        "\n",
        "\n",
        "# Fit the pipeline to the training data\n",
        "model_0.fit(X_train_v, y_train_v)\n",
        "\n",
        "# Evaluate the model using CV score using cross-validation\n",
        "from sklearn.model_selection import cross_val_score\n",
        "scores = cross_val_score(model_0, X_train_v, y_train_v, cv=5)\n",
        "print(\"Cross-validation scores:\", scores)\n",
        "print(\"Mean f1 score:\", scores.mean())\n"
      ]
    },
    {
      "cell_type": "markdown",
      "metadata": {
        "id": "NVPCNUJPUNp7"
      },
      "source": [
        "#### Make a prediction on validation data"
      ]
    },
    {
      "cell_type": "code",
      "execution_count": null,
      "metadata": {
        "colab": {
          "base_uri": "https://localhost:8080/"
        },
        "id": "-hqJkwL56mIQ",
        "outputId": "304ba138-d71a-4d4a-adb9-d4ec33bf9e0c"
      },
      "outputs": [
        {
          "output_type": "execute_result",
          "data": {
            "text/plain": [
              "array([1, 1, 1, 1, 1, 1, 1, 1, 1, 1, 1, 1, 1, 1, 1, 1, 1, 1, 1, 1])"
            ]
          },
          "metadata": {},
          "execution_count": 73
        }
      ],
      "source": [
        "# Make predictions on validation data\n",
        "y_val_preds = model_0.predict(X_val)\n",
        "y_val_preds[:20]"
      ]
    },
    {
      "cell_type": "markdown",
      "metadata": {
        "id": "u_R5EEc_TGcr"
      },
      "source": [
        "#### Evaluate model performance\n",
        ">#####  -- Print out performance scores and confusion matrix"
      ]
    },
    {
      "cell_type": "code",
      "execution_count": null,
      "metadata": {
        "colab": {
          "base_uri": "https://localhost:8080/"
        },
        "id": "I7vhdq1oUz3h",
        "outputId": "f4522874-ec11-4ebc-caaa-cf8cb02eae86"
      },
      "outputs": [
        {
          "output_type": "stream",
          "name": "stdout",
          "text": [
            "Test Results:\n",
            "================================================\n",
            "Accuracy: 63.92%\n",
            "_______________________________________________\n",
            "Classification Performance:\n",
            "                    0           1           2  accuracy   macro avg  \\\n",
            "precision    0.600000    0.643917    1.000000  0.639175    0.747972   \n",
            "recall       0.257511    0.984127    0.019608  0.639175    0.420415   \n",
            "f1-score     0.360360    0.778475    0.038462  0.639175    0.392432   \n",
            "support    233.000000  441.000000  102.000000  0.639175  776.000000   \n",
            "\n",
            "           weighted avg  \n",
            "precision      0.677535  \n",
            "recall         0.639175  \n",
            "f1-score       0.555663  \n",
            "support      776.000000  \n",
            "_______________________________________________\n",
            "Confusion Matrix: \n",
            " [[ 60 173   0]\n",
            " [  7 434   0]\n",
            " [ 33  67   2]]\n",
            "\n"
          ]
        }
      ],
      "source": [
        "#print_score(y_train, y_train_pred, train=True)\n",
        "print_score(y_val, y_val_preds, train=False)"
      ]
    },
    {
      "cell_type": "code",
      "execution_count": null,
      "metadata": {
        "colab": {
          "base_uri": "https://localhost:8080/",
          "height": 467
        },
        "id": "C1S9168GUTJ-",
        "outputId": "b2d0891b-98c9-4858-831b-c9f74cf14589"
      },
      "outputs": [
        {
          "output_type": "display_data",
          "data": {
            "text/plain": [
              "<Figure size 200x200 with 0 Axes>"
            ]
          },
          "metadata": {}
        },
        {
          "output_type": "display_data",
          "data": {
            "text/plain": [
              "<Figure size 640x480 with 2 Axes>"
            ],
            "image/png": "[encoded data removed]"
          },
          "metadata": {}
        }
      ],
      "source": [
        "display_confusion_matrix(y_val, y_val_preds, model_0)"
      ]
    },
    {
      "cell_type": "code",
      "execution_count": null,
      "metadata": {
        "colab": {
          "base_uri": "https://localhost:8080/"
        },
        "id": "mCmB-83TW6xv",
        "outputId": "e8c9e0a2-0edf-4bc4-da30-146ed134fe53"
      },
      "outputs": [
        {
          "output_type": "execute_result",
          "data": {
            "text/plain": [
              "{'Naive Bayes': {'Validation': 0.5556632270688487}}"
            ]
          },
          "metadata": {},
          "execution_count": 76
        }
      ],
      "source": [
        "### save F1 score to f1_score_metrics\n",
        "f1_score_metrics['Naive Bayes'] = {\n",
        "    'Validation': f1_score(y_val, y_val_preds, average='weighted')\n",
        "}\n",
        "f1_score_metrics"
      ]
    },
    {
      "cell_type": "markdown",
      "metadata": {
        "id": "y2eg-5Eu_W62"
      },
      "source": [
        "# **Model 1: Random Forest**"
      ]
    },
    {
      "cell_type": "code",
      "execution_count": null,
      "metadata": {
        "colab": {
          "base_uri": "https://localhost:8080/"
        },
        "id": "BnEuOUF5wsZ3",
        "outputId": "df8402e1-bd59-48de-fe22-89c3fe297035"
      },
      "outputs": [
        {
          "output_type": "stream",
          "name": "stdout",
          "text": [
            "Cross-validation(CV) scores: [0.73870968 0.75806452 0.72419355 0.75       0.74354839]\n",
            "Mean CV score: 0.7429032258064516\n"
          ]
        }
      ],
      "source": [
        "from sklearn.ensemble import RandomForestClassifier\n",
        "\n",
        "from sklearn.pipeline import Pipeline\n",
        "\n",
        "# Create tokenization and modelling pipeline\n",
        "model_1 = Pipeline([\n",
        "                    (\"tfidf\", TfidfVectorizer()), # convert words to numbers using tfidf\n",
        "                    (\"clf\", RandomForestClassifier(n_estimators=100, oob_score=False)) # model the text using ML models\n",
        "])\n",
        "\n",
        "# Fit the pipeline to the training data\n",
        "model_1.fit(X_train_v, y_train_v)\n",
        "\n",
        "from sklearn.model_selection import cross_val_score\n",
        "\n",
        "# Evaluate the model using CV score using cross-validation\n",
        "scores = cross_val_score(model_1, X_train_v, y_train_v, cv=5)\n",
        "print(\"Cross-validation(CV) scores:\", scores)\n",
        "print(\"Mean CV score:\", scores.mean())"
      ]
    },
    {
      "cell_type": "code",
      "execution_count": null,
      "metadata": {
        "id": "PPS6WmjJQYb3"
      },
      "outputs": [],
      "source": [
        "# Make predictions on validation data\n",
        "y_val_preds = model_1.predict(X_val)"
      ]
    },
    {
      "cell_type": "code",
      "execution_count": null,
      "metadata": {
        "colab": {
          "base_uri": "https://localhost:8080/"
        },
        "id": "zIjpZpXZU9SY",
        "outputId": "83330b09-f5b0-45f1-8ca4-e7060e2b1af5"
      },
      "outputs": [
        {
          "output_type": "stream",
          "name": "stdout",
          "text": [
            "Test Results:\n",
            "================================================\n",
            "Accuracy: 74.61%\n",
            "_______________________________________________\n",
            "Classification Performance:\n",
            "                    0           1           2  accuracy   macro avg  \\\n",
            "precision    0.823077    0.718076    0.906977  0.746134    0.816043   \n",
            "recall       0.459227    0.981859    0.382353  0.746134    0.607813   \n",
            "f1-score     0.589532    0.829502    0.537931  0.746134    0.652322   \n",
            "support    233.000000  441.000000  102.000000  0.746134  776.000000   \n",
            "\n",
            "           weighted avg  \n",
            "precision      0.774433  \n",
            "recall         0.746134  \n",
            "f1-score       0.719124  \n",
            "support      776.000000  \n",
            "_______________________________________________\n",
            "Confusion Matrix: \n",
            " [[107 124   2]\n",
            " [  6 433   2]\n",
            " [ 17  46  39]]\n",
            "\n"
          ]
        }
      ],
      "source": [
        "print_score(y_val, y_val_preds, train=False)"
      ]
    },
    {
      "cell_type": "code",
      "execution_count": null,
      "metadata": {
        "colab": {
          "base_uri": "https://localhost:8080/"
        },
        "id": "fzv3LRHUYKdR",
        "outputId": "7346a133-7169-44e7-c897-00ee02a150bc"
      },
      "outputs": [
        {
          "output_type": "execute_result",
          "data": {
            "text/plain": [
              "{'Naive Bayes': {'Validation': 0.5556632270688487},\n",
              " 'Random Forest': {'Validation': 0.7191239586179475}}"
            ]
          },
          "metadata": {},
          "execution_count": 126
        }
      ],
      "source": [
        "f1_score_metrics['Random Forest'] = {\n",
        "    'Validation': f1_score(y_val, y_val_preds, average='weighted')\n",
        "}\n",
        "\n",
        "f1_score_metrics"
      ]
    },
    {
      "cell_type": "markdown",
      "metadata": {
        "id": "H_hkT2N8YU9a"
      },
      "source": [
        "# **Model 2: XGBoost**"
      ]
    },
    {
      "cell_type": "code",
      "execution_count": null,
      "metadata": {
        "colab": {
          "base_uri": "https://localhost:8080/"
        },
        "id": "GP8GVW7Gw9SF",
        "outputId": "77412234-2fc0-49ee-99c9-3f8ab9fd48ae"
      },
      "outputs": [
        {
          "output_type": "stream",
          "name": "stdout",
          "text": [
            "Cross-validation(CV) scores: [0.74677419 0.76612903 0.75967742 0.75806452 0.73870968]\n",
            "Mean CV score: 0.7538709677419354\n"
          ]
        }
      ],
      "source": [
        "from xgboost import XGBClassifier\n",
        "\n",
        "from sklearn.pipeline import Pipeline\n",
        "\n",
        "# Create tokenization and modelling pipeline\n",
        "model_2 = Pipeline([\n",
        "                    (\"tfidf\", TfidfVectorizer()), # convert words to numbers using tfidf\n",
        "                    (\"clf\", XGBClassifier()) # model the text using ML models\n",
        "])\n",
        "\n",
        "# Fit the pipeline to the training data\n",
        "model_2.fit(X_train_v, y_train_v)\n",
        "\n",
        "\n",
        "from sklearn.model_selection import cross_val_score\n",
        "\n",
        "# Evaluate the model using  CV score using cross-validation\n",
        "scores = cross_val_score(model_2, X_train_v, y_train_v, cv=5)\n",
        "print(\"Cross-validation(CV) scores:\", scores)\n",
        "print(\"Mean CV score:\", scores.mean())\n",
        "\n"
      ]
    },
    {
      "cell_type": "code",
      "execution_count": null,
      "metadata": {
        "id": "5sGFDvo2ZmLo"
      },
      "outputs": [],
      "source": [
        "# Make predictions on validation data\n",
        "y_val_preds = model_2.predict(X_val)"
      ]
    },
    {
      "cell_type": "code",
      "execution_count": null,
      "metadata": {
        "colab": {
          "base_uri": "https://localhost:8080/"
        },
        "id": "6I0x3AuJZpuf",
        "outputId": "77d71910-e2e4-4aea-b478-5aeea5455e22"
      },
      "outputs": [
        {
          "output_type": "stream",
          "name": "stdout",
          "text": [
            "Test Results:\n",
            "================================================\n",
            "Accuracy: 75.77%\n",
            "_______________________________________________\n",
            "Classification Performance:\n",
            "                    0           1          2  accuracy   macro avg  \\\n",
            "precision    0.747126    0.750923    0.85000  0.757732    0.782683   \n",
            "recall       0.557940    0.922902    0.50000  0.757732    0.660281   \n",
            "f1-score     0.638821    0.828077    0.62963  0.757732    0.698843   \n",
            "support    233.000000  441.000000  102.00000  0.757732  776.000000   \n",
            "\n",
            "           weighted avg  \n",
            "precision      0.762806  \n",
            "recall         0.757732  \n",
            "f1-score       0.745167  \n",
            "support      776.000000  \n",
            "_______________________________________________\n",
            "Confusion Matrix: \n",
            " [[130 101   2]\n",
            " [ 27 407   7]\n",
            " [ 17  34  51]]\n",
            "\n"
          ]
        }
      ],
      "source": [
        "print_score(y_val, y_val_preds, train=False)"
      ]
    },
    {
      "cell_type": "code",
      "execution_count": null,
      "metadata": {
        "colab": {
          "base_uri": "https://localhost:8080/"
        },
        "id": "kX1lj1Z0Ztej",
        "outputId": "852929ce-1416-41f8-9342-791953cf2a0a"
      },
      "outputs": [
        {
          "output_type": "execute_result",
          "data": {
            "text/plain": [
              "{'Naive Bayes': {'Validation': 0.5556632270688487},\n",
              " 'Random Forest': {'Validation': 0.7191239586179475},\n",
              " 'XGBoost': {'Validation': 0.745166915841581}}"
            ]
          },
          "metadata": {},
          "execution_count": 130
        }
      ],
      "source": [
        "f1_score_metrics['XGBoost'] = {\n",
        "    'Validation': f1_score(y_val, y_val_preds, average='weighted')\n",
        "}\n",
        "\n",
        "f1_score_metrics"
      ]
    },
    {
      "cell_type": "markdown",
      "source": [
        "# **Model 3: Support Vector Machine (Linear Kernel)**"
      ],
      "metadata": {
        "id": "i2Oze8XH8ATU"
      }
    },
    {
      "cell_type": "markdown",
      "source": [
        "Side note: I also tried Radial kernel in a seperate run (data now shown here), but surprisingly, linear kernel acturally performs better than radial kernel in that run."
      ],
      "metadata": {
        "id": "LhgBnViHPhUX"
      }
    },
    {
      "cell_type": "code",
      "source": [
        "from sklearn.svm import SVC\n",
        "\n",
        "from sklearn.pipeline import Pipeline\n",
        "\n",
        "# Create tokenization and modelling pipeline\n",
        "model_3 = Pipeline([\n",
        "                    (\"tfidf\", TfidfVectorizer()), # convert words to numbers using tfidf\n",
        "                    (\"clf\", SVC(kernel='linear')) # model the text using ML models\n",
        "])\n",
        "\n",
        "# Fit the pipeline to the training data\n",
        "model_3.fit(X_train_v, y_train_v)\n",
        "\n",
        "\n",
        "from sklearn.model_selection import cross_val_score\n",
        "\n",
        "# Evaluate the model using  CV score using cross-validation\n",
        "scores = cross_val_score(model_3, X_train_v, y_train_v, cv=5)\n",
        "print(\"Cross-validation(CV) scores:\", scores)\n",
        "print(\"Mean CV score:\", scores.mean())"
      ],
      "metadata": {
        "colab": {
          "base_uri": "https://localhost:8080/"
        },
        "id": "bbHiEdkIDcYf",
        "outputId": "98cbbe25-4b69-4fa6-ed4f-1f329ed22602"
      },
      "execution_count": null,
      "outputs": [
        {
          "output_type": "stream",
          "name": "stdout",
          "text": [
            "Cross-validation(CV) scores: [0.73225806 0.78225806 0.76612903 0.76451613 0.75322581]\n",
            "Mean CV score: 0.7596774193548388\n"
          ]
        }
      ]
    },
    {
      "cell_type": "code",
      "execution_count": null,
      "metadata": {
        "colab": {
          "base_uri": "https://localhost:8080/"
        },
        "id": "Yle55UfPec3E",
        "outputId": "195d6a17-6fb0-4f46-e3bc-076bb094208c"
      },
      "outputs": [
        {
          "output_type": "stream",
          "name": "stdout",
          "text": [
            "Test Results:\n",
            "================================================\n",
            "Accuracy: 74.87%\n",
            "_______________________________________________\n",
            "Classification Performance:\n",
            "                    0           1           2  accuracy   macro avg  \\\n",
            "precision    0.725714    0.749536    0.806452  0.748711    0.760567   \n",
            "recall       0.545064    0.916100    0.490196  0.748711    0.650453   \n",
            "f1-score     0.622549    0.824490    0.609756  0.748711    0.685598   \n",
            "support    233.000000  441.000000  102.000000  0.748711  776.000000   \n",
            "\n",
            "           weighted avg  \n",
            "precision      0.749865  \n",
            "recall         0.748711  \n",
            "f1-score       0.735630  \n",
            "support      776.000000  \n",
            "_______________________________________________\n",
            "Confusion Matrix: \n",
            " [[127 103   3]\n",
            " [ 28 404   9]\n",
            " [ 20  32  50]]\n",
            "\n"
          ]
        }
      ],
      "source": [
        "# Make predictions on validation data\n",
        "y_val_preds = model_3.predict(X_val)\n",
        "\n",
        "print_score(y_val, y_val_preds, train=False)"
      ]
    },
    {
      "cell_type": "code",
      "execution_count": null,
      "metadata": {
        "colab": {
          "base_uri": "https://localhost:8080/"
        },
        "id": "aPgcSKsZenK8",
        "outputId": "30bdac7f-66ef-4ae1-b601-86050c90acb7"
      },
      "outputs": [
        {
          "output_type": "execute_result",
          "data": {
            "text/plain": [
              "{'Naive Bayes': {'Validation': 0.5556632270688487},\n",
              " 'Random Forest': {'Validation': 0.7191239586179475},\n",
              " 'XGBoost': {'Validation': 0.745166915841581},\n",
              " 'SVC': {'Validation': 0.7356302107214523},\n",
              " 'LogisticRegression': {'Validation': 0.7178577306585933},\n",
              " 'RNN-LSTM': {'Validation': 0.7018421558848447}}"
            ]
          },
          "metadata": {},
          "execution_count": 180
        }
      ],
      "source": [
        "f1_score_metrics['SVC'] = {\n",
        "    'Validation': f1_score(y_val, y_val_preds, average='weighted')\n",
        "}\n",
        "\n",
        "f1_score_metrics"
      ]
    },
    {
      "cell_type": "markdown",
      "metadata": {
        "id": "MsmMYHGKeyFp"
      },
      "source": [
        "# **Model 4: Logistic Regression**"
      ]
    },
    {
      "cell_type": "code",
      "execution_count": null,
      "metadata": {
        "colab": {
          "base_uri": "https://localhost:8080/"
        },
        "id": "CDw00nJee0aZ",
        "outputId": "94f9b225-2439-47d2-e9fb-659d6b40de9a"
      },
      "outputs": [
        {
          "output_type": "stream",
          "name": "stdout",
          "text": [
            "Cross-validation(CV) scores: [0.72419355 0.77741935 0.73709677 0.7516129  0.73387097]\n",
            "Mean CV score: 0.7448387096774194\n"
          ]
        }
      ],
      "source": [
        "from sklearn.linear_model import LogisticRegression\n",
        "\n",
        "from sklearn.pipeline import Pipeline\n",
        "\n",
        "# Create tokenization and modelling pipeline\n",
        "model_4 = Pipeline([\n",
        "                    (\"tfidf\", TfidfVectorizer()), # convert words to numbers using tfidf\n",
        "                    (\"clf\", LogisticRegression(random_state=0)) # model the text using ML models\n",
        "])\n",
        "\n",
        "# Fit the pipeline to the training data\n",
        "model_4.fit(X_train_v, y_train_v)\n",
        "\n",
        "\n",
        "from sklearn.model_selection import cross_val_score\n",
        "\n",
        "# Evaluate the model using  CV score using cross-validation\n",
        "scores = cross_val_score(model_4, X_train_v, y_train_v, cv=5)\n",
        "print(\"Cross-validation(CV) scores:\", scores)\n",
        "print(\"Mean CV score:\", scores.mean())\n"
      ]
    },
    {
      "cell_type": "code",
      "execution_count": null,
      "metadata": {
        "colab": {
          "base_uri": "https://localhost:8080/"
        },
        "id": "ZZSoTW-mfKT6",
        "outputId": "6b6c091f-501d-429e-b714-b06c1d897878"
      },
      "outputs": [
        {
          "output_type": "stream",
          "name": "stdout",
          "text": [
            "Test Results:\n",
            "================================================\n",
            "Accuracy: 73.97%\n",
            "_______________________________________________\n",
            "Classification Performance:\n",
            "                    0           1           2  accuracy   macro avg  \\\n",
            "precision    0.740741    0.730298    0.860465  0.739691    0.777168   \n",
            "recall       0.515021    0.945578    0.362745  0.739691    0.607782   \n",
            "f1-score     0.607595    0.824111    0.510345  0.739691    0.647350   \n",
            "support    233.000000  441.000000  102.000000  0.739691  776.000000   \n",
            "\n",
            "           weighted avg  \n",
            "precision      0.750543  \n",
            "recall         0.739691  \n",
            "f1-score       0.717858  \n",
            "support      776.000000  \n",
            "_______________________________________________\n",
            "Confusion Matrix: \n",
            " [[120 111   2]\n",
            " [ 20 417   4]\n",
            " [ 22  43  37]]\n",
            "\n"
          ]
        }
      ],
      "source": [
        "# Make predictions on validation data\n",
        "y_val_preds = model_4.predict(X_val)\n",
        "\n",
        "print_score(y_val, y_val_preds, train=False)"
      ]
    },
    {
      "cell_type": "code",
      "execution_count": null,
      "metadata": {
        "colab": {
          "base_uri": "https://localhost:8080/"
        },
        "id": "tydXbloPfQPV",
        "outputId": "ea9a2a73-7670-4b77-9049-431688cd211d"
      },
      "outputs": [
        {
          "output_type": "execute_result",
          "data": {
            "text/plain": [
              "{'Naive Bayes': {'Validation': 0.5556632270688487},\n",
              " 'Random Forest': {'Validation': 0.7191239586179475},\n",
              " 'XGBoost': {'Validation': 0.745166915841581},\n",
              " 'SVC': {'Validation': 0.6917051669888689},\n",
              " 'LogisticRegression': {'Validation': 0.7178577306585933}}"
            ]
          },
          "metadata": {},
          "execution_count": 136
        }
      ],
      "source": [
        "f1_score_metrics['LogisticRegression'] = {\n",
        "    'Validation': f1_score(y_val, y_val_preds, average='weighted')\n",
        "}\n",
        "\n",
        "f1_score_metrics"
      ]
    },
    {
      "cell_type": "markdown",
      "source": [
        "\n",
        "\n",
        "\n",
        "--------------------------\n",
        "\n",
        "# **Deep Learning Models**\n",
        "\n",
        "--------------------------"
      ],
      "metadata": {
        "id": "_COxVIlVCk-Y"
      }
    },
    {
      "cell_type": "markdown",
      "source": [
        "\n",
        "## **Natural Language Process (NLP): Text Preprocessing using TensorFlow/Keras**\n",
        "\n",
        "## Two important NLP preprocessing steps are conduced before training models:\n",
        "\n",
        "----------\n",
        "###  ---   **Tokenization:** Vectorize text, by turning each text into either a sequence of integers or into a vector.\n",
        "#### In this analysis, I set below parameter values:\n",
        ">>Limit the data set to the top 10000 words.\n",
        "\n",
        ">>Set the max number of words = 2 * average_text_length.\n",
        "\n",
        "----------\n",
        "###  ---   **Embedding:**  Transforms tokenized text into numbers so that Deep learning models can understand.\n",
        "#### In this analysis, I either use the TensorFlow/Keras framework to generate embedding layers, or use pretrained embeddings from TensorFlow Hub, with just a few lines of code\n",
        "\n",
        "\n",
        "----------"
      ],
      "metadata": {
        "id": "vNTQq4lZDk15"
      }
    },
    {
      "cell_type": "code",
      "execution_count": null,
      "metadata": {
        "id": "2KEa0StPfvXS",
        "colab": {
          "base_uri": "https://localhost:8080/",
          "height": 54
        },
        "outputId": "820201fd-ac03-4135-ba0e-054b090da143"
      },
      "outputs": [
        {
          "output_type": "display_data",
          "data": {
            "text/plain": [
              "10000"
            ]
          },
          "metadata": {}
        },
        {
          "output_type": "display_data",
          "data": {
            "text/plain": [
              "46"
            ]
          },
          "metadata": {}
        }
      ],
      "source": [
        "### setup parameters\n",
        "import tensorflow as tf\n",
        "from tensorflow.keras.layers import TextVectorization # after TensorFlow 2.6\n",
        "from tensorflow.keras import layers\n",
        "\n",
        "### set the Max dictionary words count\n",
        "MAX_NB_WORDS = 10000 # sets the maximum number of words to consider as features for tokenizer.\n",
        "\n",
        "\n",
        "### set MAX length in a sentence\n",
        "train_avg_text_length = round(sum([len(i.split()) for i in X_train_v])/len(X_train_v))\n",
        "train_avg_text_length\n",
        "23\n",
        "MAX_SEQUENCE_LENGTH = train_avg_text_length * 2\n",
        "\n",
        "### setup number of classes\n",
        "NUM_CLASSES = 3\n",
        "\n",
        "\n",
        "display(MAX_NB_WORDS)\n",
        "display(MAX_SEQUENCE_LENGTH)\n"
      ]
    },
    {
      "cell_type": "markdown",
      "source": [
        "## **Text Vectorization**\n",
        "\n",
        "#### **Create Text Vectorization Layer**"
      ],
      "metadata": {
        "id": "6viOyqu7uzPF"
      }
    },
    {
      "cell_type": "code",
      "execution_count": null,
      "metadata": {
        "id": "E0WVG2sEgCh2"
      },
      "outputs": [],
      "source": [
        "### Tokenize the text and create text vectorize layer\n",
        "vectorize_layer = TextVectorization(max_tokens=MAX_NB_WORDS ,\n",
        "                                    standardize=\"lower_and_strip_punctuation\",\n",
        "                                    split=\"whitespace\",\n",
        "                                    ngrams=None,\n",
        "                                    output_mode=\"int\",\n",
        "                                    output_sequence_length=MAX_SEQUENCE_LENGTH,\n",
        "                                    pad_to_max_tokens=True)\n",
        "\n",
        "# Fit the text vectorizer to the training text\n",
        "vectorize_layer.adapt(X_train_v)"
      ]
    },
    {
      "cell_type": "markdown",
      "source": [
        "## **Embedding**\n",
        "\n",
        "### **Create custom embedding for each Deep Learning Model**\n",
        "\n",
        "convert text into numbers"
      ],
      "metadata": {
        "id": "0w1f3uRJu9Os"
      }
    },
    {
      "cell_type": "code",
      "source": [
        "# Set random seed and create embedding layer\n",
        "tf.random.set_seed(42)\n",
        "model_5_embedding = layers.Embedding(input_dim=MAX_NB_WORDS,\n",
        "                                     output_dim=128,\n",
        "                                     embeddings_initializer=\"uniform\",\n",
        "                                     input_length=MAX_SEQUENCE_LENGTH,\n",
        "                                     name=\"embedding_LSTM\")\n"
      ],
      "metadata": {
        "id": "T-P2Q4douvnV"
      },
      "execution_count": null,
      "outputs": []
    },
    {
      "cell_type": "markdown",
      "source": [
        "# **Model 5: Recurrent Neural Network (RNNs)**\n",
        "\n",
        ">## - **Long short-term memory (LSTM)**\n",
        "\n"
      ],
      "metadata": {
        "id": "FlQXC4HWi2D4"
      }
    },
    {
      "cell_type": "code",
      "source": [
        "# Create RNN LSTM model\n",
        "\n",
        "# Input layer for text data\n",
        "inputs = layers.Input(shape=(1,), dtype=\"string\")\n",
        "text_features = vectorize_layer(inputs)    ## add vectorization layer\n",
        "x = model_5_embedding(text_features)       ## create embedding\n",
        "lstm_layer = layers.LSTM(64)(x)            ## Add LSTM modeling layer #x = layers.LSTM(64, return_sequences=True)(x)\n",
        "#relu_layer = layers.Dense(64, activation=\"relu\")(lstm_layer)  #only experimental, but not necessarily need this additional layer\n",
        "outputs = layers.Dense(NUM_CLASSES, activation=\"softmax\")(lstm_layer)\n",
        "\n",
        "\n",
        "#### Create LSTM Model\n",
        "model_5 = tf.keras.Model(inputs, outputs, name=\"model_5_LSTM\")\n",
        "\n",
        "### alternative way to create model\n",
        "#model_5 = tf.keras.Sequential([\n",
        "#    inputs,\n",
        "#    vectorize_layer,\n",
        "#    model_5_embedding\n",
        "#    lstm_layer,\n",
        "#    outputs\n",
        "#])\n",
        "\n",
        "\n",
        "# Compile the model\n",
        "model_5.compile(optimizer=\"adam\", loss=\"sparse_categorical_crossentropy\", metrics=[\"accuracy\"])\n",
        "\n",
        "model_5.summary()\n",
        "\n"
      ],
      "metadata": {
        "colab": {
          "base_uri": "https://localhost:8080/"
        },
        "id": "jYZzhQ-cKPnX",
        "outputId": "f1d31489-b49c-4985-c184-9d48493ac828"
      },
      "execution_count": null,
      "outputs": [
        {
          "output_type": "stream",
          "name": "stdout",
          "text": [
            "Model: \"model_5_LSTM\"\n",
            "_________________________________________________________________\n",
            " Layer (type)                Output Shape              Param #   \n",
            "=================================================================\n",
            " input_2 (InputLayer)        [(None, 1)]               0         \n",
            "                                                                 \n",
            " text_vectorization (TextVe  (None, 46)                0         \n",
            " ctorization)                                                    \n",
            "                                                                 \n",
            " embedding_LSTM (Embedding)  (None, 46, 128)           1280000   \n",
            "                                                                 \n",
            " lstm (LSTM)                 (None, 64)                49408     \n",
            "                                                                 \n",
            " dense (Dense)               (None, 3)                 195       \n",
            "                                                                 \n",
            "=================================================================\n",
            "Total params: 1329603 (5.07 MB)\n",
            "Trainable params: 1329603 (5.07 MB)\n",
            "Non-trainable params: 0 (0.00 Byte)\n",
            "_________________________________________________________________\n"
          ]
        }
      ]
    },
    {
      "cell_type": "markdown",
      "source": [
        "#### Fit the model"
      ],
      "metadata": {
        "id": "8X0ZO7IyFCHK"
      }
    },
    {
      "cell_type": "code",
      "execution_count": null,
      "metadata": {
        "colab": {
          "base_uri": "https://localhost:8080/"
        },
        "id": "bx8TyUgvI8hj",
        "outputId": "e96dc671-bf24-4724-8001-e07119485a1e"
      },
      "outputs": [
        {
          "output_type": "stream",
          "name": "stdout",
          "text": [
            "Saving TensorBoard log files to: logs/LSTM/20230909-041153\n",
            "Epoch 1/15\n",
            "97/97 - 6s - loss: 0.5034 - accuracy: 0.8087 - val_loss: 0.9057 - val_accuracy: 0.6224 - 6s/epoch - 66ms/step\n",
            "Epoch 2/15\n",
            "97/97 - 5s - loss: 0.5809 - accuracy: 0.7332 - val_loss: 1.0815 - val_accuracy: 0.6495 - 5s/epoch - 48ms/step\n",
            "Epoch 3/15\n",
            "97/97 - 6s - loss: 0.1642 - accuracy: 0.9581 - val_loss: 1.2018 - val_accuracy: 0.7126 - 6s/epoch - 64ms/step\n",
            "Epoch 4/15\n",
            "97/97 - 5s - loss: 0.0778 - accuracy: 0.9832 - val_loss: 1.3058 - val_accuracy: 0.6959 - 5s/epoch - 48ms/step\n",
            "Epoch 5/15\n",
            "97/97 - 5s - loss: 0.0576 - accuracy: 0.9881 - val_loss: 1.3781 - val_accuracy: 0.7152 - 5s/epoch - 54ms/step\n",
            "Epoch 6/15\n",
            "97/97 - 8s - loss: 0.0464 - accuracy: 0.9910 - val_loss: 1.3280 - val_accuracy: 0.7178 - 8s/epoch - 83ms/step\n",
            "Epoch 7/15\n",
            "97/97 - 5s - loss: 0.0548 - accuracy: 0.9874 - val_loss: 1.4722 - val_accuracy: 0.6933 - 5s/epoch - 55ms/step\n",
            "Epoch 8/15\n",
            "97/97 - 6s - loss: 0.0368 - accuracy: 0.9919 - val_loss: 1.3537 - val_accuracy: 0.7113 - 6s/epoch - 64ms/step\n",
            "Epoch 9/15\n",
            "97/97 - 5s - loss: 0.0287 - accuracy: 0.9935 - val_loss: 1.4840 - val_accuracy: 0.7152 - 5s/epoch - 51ms/step\n",
            "Epoch 10/15\n",
            "97/97 - 6s - loss: 0.0254 - accuracy: 0.9942 - val_loss: 1.4551 - val_accuracy: 0.7113 - 6s/epoch - 65ms/step\n",
            "Epoch 11/15\n",
            "97/97 - 5s - loss: 0.0191 - accuracy: 0.9952 - val_loss: 1.4790 - val_accuracy: 0.7191 - 5s/epoch - 51ms/step\n",
            "Epoch 12/15\n",
            "97/97 - 5s - loss: 0.0183 - accuracy: 0.9961 - val_loss: 1.5386 - val_accuracy: 0.7126 - 5s/epoch - 51ms/step\n",
            "Epoch 13/15\n",
            "97/97 - 6s - loss: 0.0174 - accuracy: 0.9958 - val_loss: 1.5468 - val_accuracy: 0.7152 - 6s/epoch - 67ms/step\n",
            "Epoch 14/15\n",
            "97/97 - 5s - loss: 0.0151 - accuracy: 0.9958 - val_loss: 1.6400 - val_accuracy: 0.7126 - 5s/epoch - 51ms/step\n",
            "Epoch 15/15\n",
            "97/97 - 6s - loss: 0.0146 - accuracy: 0.9958 - val_loss: 1.6205 - val_accuracy: 0.7139 - 6s/epoch - 58ms/step\n"
          ]
        }
      ],
      "source": [
        "# Create directory to save TensorBoard logs\n",
        "SAVE_DIR = \"logs\"\n",
        "\n",
        "# Fit model and supply the validation set\n",
        "batch_size=32\n",
        "model_5_history = model_5.fit(X_train_v,\n",
        "                              y_train_v,\n",
        "                              epochs= 15,\n",
        "                              batch_size=batch_size, verbose = 2,\n",
        "                              validation_data=(X_val, y_val),\n",
        "                              callbacks=[create_tensorboard_callback(SAVE_DIR, \"LSTM\")])"
      ]
    },
    {
      "cell_type": "code",
      "source": [
        "### check the accuracy for training set\n",
        "train_accr = model_5.evaluate(X_train_v,y_train_v)\n",
        "print('Training set \\n  Loss: {:0.3f}\\n  Accuracy: {:0.3f}'.format(train_accr[0],train_accr[1]))"
      ],
      "metadata": {
        "colab": {
          "base_uri": "https://localhost:8080/"
        },
        "id": "0xajz1MiVIhU",
        "outputId": "79bfcee7-207d-4bc0-c1ef-4b3b8519d089"
      },
      "execution_count": null,
      "outputs": [
        {
          "output_type": "stream",
          "name": "stdout",
          "text": [
            "97/97 [==============================] - 1s 13ms/step - loss: 0.0139 - accuracy: 0.9968\n",
            "Training set \n",
            "  Loss: 0.014\n",
            "  Accuracy: 0.997\n"
          ]
        }
      ]
    },
    {
      "cell_type": "code",
      "source": [
        "### check the accuracy for validation set\n",
        "val_accr = model_5.evaluate(X_val,y_val)\n",
        "print('Validation test set\\n  Loss: {:0.3f}\\n  Accuracy: {:0.3f}'.format(val_accr[0],val_accr[1]))"
      ],
      "metadata": {
        "colab": {
          "base_uri": "https://localhost:8080/"
        },
        "id": "qUiskTfcF3Z3",
        "outputId": "d6d59b1c-db18-4f36-c681-4ed29d31dcf9"
      },
      "execution_count": null,
      "outputs": [
        {
          "output_type": "stream",
          "name": "stdout",
          "text": [
            "25/25 [==============================] - 0s 18ms/step - loss: 1.6205 - accuracy: 0.7139\n",
            "Validation test set\n",
            "  Loss: 1.620\n",
            "  Accuracy: 0.714\n"
          ]
        }
      ]
    },
    {
      "cell_type": "markdown",
      "source": [
        "#### Plot the loss for all epochs runs on train and validation set"
      ],
      "metadata": {
        "id": "w3tLzB9jFV7M"
      }
    },
    {
      "cell_type": "code",
      "source": [
        "plt.title('Loss')\n",
        "plt.plot(model_5_history.history['loss'], label='train')\n",
        "plt.plot(model_5_history.history['val_loss'], label='val_test')\n",
        "plt.legend()\n",
        "plt.show();"
      ],
      "metadata": {
        "colab": {
          "base_uri": "https://localhost:8080/",
          "height": 452
        },
        "id": "s3XcotVUF2oK",
        "outputId": "9244a966-7812-43b6-9a74-7fd2dfd9aa70"
      },
      "execution_count": null,
      "outputs": [
        {
          "output_type": "display_data",
          "data": {
            "text/plain": [
              "<Figure size 640x480 with 1 Axes>"
            ],
            "image/png": "[encoded data removed]"
          },
          "metadata": {}
        }
      ]
    },
    {
      "cell_type": "markdown",
      "source": [
        "Plot the accuracy for all epochs runs on train and validation set"
      ],
      "metadata": {
        "id": "Z3QoG4cDFoDS"
      }
    },
    {
      "cell_type": "code",
      "source": [
        "plt.title('Accuracy')\n",
        "plt.plot(model_5_history.history['accuracy'], label='train')\n",
        "plt.plot(model_5_history.history['val_accuracy'], label='val_test')\n",
        "plt.legend()\n",
        "plt.show();"
      ],
      "metadata": {
        "colab": {
          "base_uri": "https://localhost:8080/",
          "height": 452
        },
        "id": "LJdRH_hUGVUv",
        "outputId": "568fea81-beef-4947-c36d-247b6956a3b6"
      },
      "execution_count": null,
      "outputs": [
        {
          "output_type": "display_data",
          "data": {
            "text/plain": [
              "<Figure size 640x480 with 1 Axes>"
            ],
            "image/png": "[encoded data removed]"
          },
          "metadata": {}
        }
      ]
    },
    {
      "cell_type": "markdown",
      "source": [
        "#### Make Predictions"
      ],
      "metadata": {
        "id": "goNRSyOqFxUi"
      }
    },
    {
      "cell_type": "code",
      "execution_count": null,
      "metadata": {
        "colab": {
          "base_uri": "https://localhost:8080/",
          "height": 128
        },
        "id": "2NYcJw6_OQgX",
        "outputId": "0e943dd2-679b-4987-8836-11a13a20a51d"
      },
      "outputs": [
        {
          "output_type": "stream",
          "name": "stdout",
          "text": [
            "25/25 [==============================] - 0s 13ms/step\n"
          ]
        },
        {
          "output_type": "display_data",
          "data": {
            "text/plain": [
              "array([[2.0417960e-04, 9.9966240e-01, 1.3350745e-04],\n",
              "       [3.0652568e-04, 9.9951750e-01, 1.7592672e-04],\n",
              "       [2.6882248e-04, 9.9957103e-01, 1.6019031e-04]], dtype=float32)"
            ]
          },
          "metadata": {}
        },
        {
          "output_type": "display_data",
          "data": {
            "text/plain": [
              "array([1, 1, 1, 0, 1, 1, 1, 1, 1, 0, 0, 1, 0, 1, 2, 1, 1, 2, 0, 1, 1, 1,\n",
              "       0, 1, 1, 1, 0, 1, 1, 2])"
            ]
          },
          "metadata": {}
        }
      ],
      "source": [
        "# Make predictions on the validation dataset\n",
        "y_val_preds_prob = model_5.predict(X_val)\n",
        "display(y_val_preds_prob[:3]) # view the first 10\n",
        "\n",
        "y_val_preds = np.argmax(y_val_preds_prob, axis=1)\n",
        "display(y_val_preds[:30])\n"
      ]
    },
    {
      "cell_type": "markdown",
      "source": [
        "#### Print out Model Performance Summary"
      ],
      "metadata": {
        "id": "pcVSPM_WF0KT"
      }
    },
    {
      "cell_type": "code",
      "source": [
        "print_score(y_val, y_val_preds, train=False)"
      ],
      "metadata": {
        "colab": {
          "base_uri": "https://localhost:8080/"
        },
        "id": "Xof7BZC3xc52",
        "outputId": "5e80b98a-8bcc-476a-cfe0-e2fb413930cc"
      },
      "execution_count": null,
      "outputs": [
        {
          "output_type": "stream",
          "name": "stdout",
          "text": [
            "Test Results:\n",
            "================================================\n",
            "Accuracy: 71.39%\n",
            "_______________________________________________\n",
            "Classification Performance:\n",
            "                    0           1           2  accuracy   macro avg  \\\n",
            "precision    0.646018    0.766376    0.619565  0.713918    0.677319   \n",
            "recall       0.626609    0.795918    0.558824  0.713918    0.660450   \n",
            "f1-score     0.636166    0.780868    0.587629  0.713918    0.668221   \n",
            "support    233.000000  441.000000  102.000000  0.713918  776.000000   \n",
            "\n",
            "           weighted avg  \n",
            "precision      0.710940  \n",
            "recall         0.713918  \n",
            "f1-score       0.712020  \n",
            "support      776.000000  \n",
            "_______________________________________________\n",
            "Confusion Matrix: \n",
            " [[146  79   8]\n",
            " [ 63 351  27]\n",
            " [ 17  28  57]]\n",
            "\n"
          ]
        }
      ]
    },
    {
      "cell_type": "markdown",
      "source": [
        "#### Store Model F1-scores into dictionary"
      ],
      "metadata": {
        "id": "_GcGvgxGF6xy"
      }
    },
    {
      "cell_type": "code",
      "source": [
        "f1_score_metrics['RNN-LSTM'] = {\n",
        "    'Validation': f1_score(y_val, y_val_preds, average='weighted')\n",
        "}\n",
        "\n",
        "f1_score_metrics"
      ],
      "metadata": {
        "colab": {
          "base_uri": "https://localhost:8080/"
        },
        "id": "OJDXoMWlVn3k",
        "outputId": "9b05f0f8-2d71-45c8-c8c2-28cbffb3f9f9"
      },
      "execution_count": null,
      "outputs": [
        {
          "output_type": "execute_result",
          "data": {
            "text/plain": [
              "{'Naive Bayes': {'Validation': 0.5556632270688487},\n",
              " 'Random Forest': {'Validation': 0.7191239586179475},\n",
              " 'XGBoost': {'Validation': 0.745166915841581},\n",
              " 'SVC': {'Validation': 0.7356302107214523},\n",
              " 'LogisticRegression': {'Validation': 0.7178577306585933},\n",
              " 'RNN-LSTM': {'Validation': 0.7120197796258214}}"
            ]
          },
          "metadata": {},
          "execution_count": 216
        }
      ]
    },
    {
      "cell_type": "markdown",
      "metadata": {
        "id": "B_G92EtbR3yJ"
      },
      "source": [
        "# **Model 6: Using pretrained Embeddings (Transfer Learning for NLP)**"
      ]
    },
    {
      "cell_type": "markdown",
      "metadata": {
        "id": "vbyIODTDSLkT"
      },
      "source": [
        "### **Pretrained Embeddings used in this experiment: TensorFlow Hub Pretrained Universal Sentence Encoder (USE)**"
      ]
    },
    {
      "cell_type": "markdown",
      "metadata": {
        "id": "YQz5Cm_8SCpA"
      },
      "source": [
        "For all of the previous deep learning models I've built and trained, i've created and used my own embeddings from scratch each time.\n",
        "\n",
        "However, a common practice is to leverage pretrained embeddings through transfer learning. This is one of the main benefits of using deep models: being able to take what one larger model has learned from a large amount of data  and adjust it for my particular use case.\n",
        "\n",
        "So for this model, instead of using our own embedding layer, I replaced it with a pretrained embedding layer - Universal Sentence Encoder from TensorFlow Hub. This embedding creates a whole sentence-level embedding(512 dimensional vector) rather than word-level embedding like we did earlier (128 dimensional vector).\n"
      ]
    },
    {
      "cell_type": "code",
      "execution_count": null,
      "metadata": {
        "id": "_ARVuzDMSpMe"
      },
      "outputs": [],
      "source": [
        "# We can use this encoding layer in place of our vectorize_layer and embedding layer\n",
        "import tensorflow_hub as hub\n",
        "\n",
        "sentence_encoder_layer = hub.KerasLayer(\"https://tfhub.dev/google/universal-sentence-encoder/4\",\n",
        "                                        input_shape=[], # shape of inputs\n",
        "                                        dtype=tf.string, # data type of inputs towards USE layer\n",
        "                                        trainable=False, # keep the pretrained weights\n",
        "                                        name=\"USE\")"
      ]
    },
    {
      "cell_type": "code",
      "execution_count": null,
      "metadata": {
        "colab": {
          "base_uri": "https://localhost:8080/"
        },
        "id": "nUMdNPynSubp",
        "outputId": "96888b56-2db6-41d0-b684-c942a3b62bce"
      },
      "outputs": [
        {
          "output_type": "stream",
          "name": "stdout",
          "text": [
            "Model: \"model_6_USE\"\n",
            "_________________________________________________________________\n",
            " Layer (type)                Output Shape              Param #   \n",
            "=================================================================\n",
            " USE (KerasLayer)            (None, 512)               256797824 \n",
            "                                                                 \n",
            " dense_1 (Dense)             (None, 1000)              513000    \n",
            "                                                                 \n",
            " dense_2 (Dense)             (None, 3)                 3003      \n",
            "                                                                 \n",
            "=================================================================\n",
            "Total params: 257313827 (981.57 MB)\n",
            "Trainable params: 516003 (1.97 MB)\n",
            "Non-trainable params: 256797824 (979.61 MB)\n",
            "_________________________________________________________________\n"
          ]
        }
      ],
      "source": [
        "# Create model using the Sequential API\n",
        "model_6 = tf.keras.Sequential([\n",
        "  sentence_encoder_layer, # take in sentences and then encode them into an embedding\n",
        "  layers.Dense(1000, activation=\"relu\"),\n",
        "  layers.Dense(NUM_CLASSES, activation=\"softmax\")\n",
        "], name=\"model_6_USE\")\n",
        "\n",
        "model_6.compile(optimizer=\"adam\", loss=\"sparse_categorical_crossentropy\", metrics=[\"accuracy\"])\n",
        "\n",
        "model_6.summary()\n"
      ]
    },
    {
      "cell_type": "code",
      "execution_count": null,
      "metadata": {
        "colab": {
          "base_uri": "https://localhost:8080/"
        },
        "id": "_h7-77Q2Sx1m",
        "outputId": "0cd109eb-c11d-41ea-eda3-2fdefb8e6a63"
      },
      "outputs": [
        {
          "output_type": "stream",
          "name": "stdout",
          "text": [
            "Saving TensorBoard log files to: logs/tf_hub_sentence_encoder/20230909-043755\n",
            "Epoch 1/12\n",
            "97/97 - 6s - loss: 0.7575 - accuracy: 0.6765 - val_loss: 0.6633 - val_accuracy: 0.7023 - 6s/epoch - 61ms/step\n",
            "Epoch 2/12\n",
            "97/97 - 3s - loss: 0.5748 - accuracy: 0.7477 - val_loss: 0.6426 - val_accuracy: 0.7165 - 3s/epoch - 31ms/step\n",
            "Epoch 3/12\n",
            "97/97 - 3s - loss: 0.5053 - accuracy: 0.7919 - val_loss: 0.6457 - val_accuracy: 0.7178 - 3s/epoch - 30ms/step\n",
            "Epoch 4/12\n",
            "97/97 - 2s - loss: 0.4530 - accuracy: 0.8058 - val_loss: 0.6413 - val_accuracy: 0.7216 - 2s/epoch - 18ms/step\n",
            "Epoch 5/12\n",
            "97/97 - 2s - loss: 0.3856 - accuracy: 0.8477 - val_loss: 0.6440 - val_accuracy: 0.7255 - 2s/epoch - 18ms/step\n",
            "Epoch 6/12\n",
            "97/97 - 2s - loss: 0.3212 - accuracy: 0.8887 - val_loss: 0.6582 - val_accuracy: 0.7320 - 2s/epoch - 18ms/step\n",
            "Epoch 7/12\n",
            "97/97 - 2s - loss: 0.2577 - accuracy: 0.9174 - val_loss: 0.6549 - val_accuracy: 0.7397 - 2s/epoch - 18ms/step\n",
            "Epoch 8/12\n",
            "97/97 - 2s - loss: 0.2003 - accuracy: 0.9452 - val_loss: 0.6895 - val_accuracy: 0.7358 - 2s/epoch - 18ms/step\n",
            "Epoch 9/12\n",
            "97/97 - 2s - loss: 0.1529 - accuracy: 0.9706 - val_loss: 0.7094 - val_accuracy: 0.7500 - 2s/epoch - 23ms/step\n",
            "Epoch 10/12\n",
            "97/97 - 3s - loss: 0.1146 - accuracy: 0.9852 - val_loss: 0.7364 - val_accuracy: 0.7294 - 3s/epoch - 30ms/step\n",
            "Epoch 11/12\n",
            "97/97 - 2s - loss: 0.0888 - accuracy: 0.9887 - val_loss: 0.7767 - val_accuracy: 0.7358 - 2s/epoch - 18ms/step\n",
            "Epoch 12/12\n",
            "97/97 - 2s - loss: 0.0721 - accuracy: 0.9926 - val_loss: 0.7731 - val_accuracy: 0.7294 - 2s/epoch - 18ms/step\n"
          ]
        }
      ],
      "source": [
        "# Train a classifier on top of pretrained embeddings\n",
        "batch_size = 32\n",
        "model_6_history = model_6.fit(X_train_v,\n",
        "                              y_train_v,\n",
        "                              epochs=12,\n",
        "                              batch_size=batch_size, verbose = 2,\n",
        "                              validation_data=(X_val, y_val),\n",
        "                              callbacks=[create_tensorboard_callback(SAVE_DIR,\n",
        "                                                                     \"tf_hub_sentence_encoder\")])"
      ]
    },
    {
      "cell_type": "markdown",
      "source": [
        "#### Make predictions on validation set"
      ],
      "metadata": {
        "id": "tYZ4NK9nHqVz"
      }
    },
    {
      "cell_type": "code",
      "execution_count": null,
      "metadata": {
        "colab": {
          "base_uri": "https://localhost:8080/",
          "height": 146
        },
        "id": "-3ySemYaSz9y",
        "outputId": "ccbef62f-c72b-4678-96f7-ac05c1e61e0e"
      },
      "outputs": [
        {
          "output_type": "stream",
          "name": "stdout",
          "text": [
            "25/25 [==============================] - 1s 14ms/step\n"
          ]
        },
        {
          "output_type": "display_data",
          "data": {
            "text/plain": [
              "array([[4.0852871e-02, 9.5914292e-01, 4.0779528e-06],\n",
              "       [8.3400168e-02, 9.0496969e-01, 1.1630079e-02],\n",
              "       [6.4366480e-04, 9.9935633e-01, 1.0330712e-08]], dtype=float32)"
            ]
          },
          "metadata": {}
        },
        {
          "output_type": "display_data",
          "data": {
            "text/plain": [
              "array([1, 1, 1, 0, 1, 2, 1, 1, 1, 0, 1, 1, 0, 0, 0, 1, 1, 2, 1, 1, 1, 1,\n",
              "       1, 1, 1, 1, 0, 1, 1, 0, 1, 0, 1, 1, 0, 1, 1, 1, 2, 0, 0, 2, 1, 2,\n",
              "       1, 0, 0, 0, 1, 1])"
            ]
          },
          "metadata": {}
        }
      ],
      "source": [
        "# Make predictions on the validation dataset\n",
        "y_val_preds_prob = model_6.predict(X_val)\n",
        "display(y_val_preds_prob[:3]) # view the first 10\n",
        "\n",
        "y_val_preds = np.argmax(y_val_preds_prob, axis=1)\n",
        "display(y_val_preds[:50])"
      ]
    },
    {
      "cell_type": "markdown",
      "source": [
        "#### Plot loss after each epochs run"
      ],
      "metadata": {
        "id": "6Usm72JZHvRL"
      }
    },
    {
      "cell_type": "code",
      "source": [
        "plt.title('Loss')\n",
        "plt.plot(model_6_history.history['loss'], label='train')\n",
        "plt.plot(model_6_history.history['val_loss'], label='val_test')\n",
        "plt.legend()\n",
        "plt.show();"
      ],
      "metadata": {
        "colab": {
          "base_uri": "https://localhost:8080/",
          "height": 452
        },
        "id": "fApqOOyDde5P",
        "outputId": "f620bc1d-a19c-4d79-ae95-47a47fecd40c"
      },
      "execution_count": null,
      "outputs": [
        {
          "output_type": "display_data",
          "data": {
            "text/plain": [
              "<Figure size 640x480 with 1 Axes>"
            ],
            "image/png": "[encoded data removed]"
          },
          "metadata": {}
        }
      ]
    },
    {
      "cell_type": "markdown",
      "source": [
        "#### Plot accuracy after each epochs run"
      ],
      "metadata": {
        "id": "F87P-mU6H1ub"
      }
    },
    {
      "cell_type": "code",
      "source": [
        "plt.title('Accuracy')\n",
        "plt.plot(model_6_history.history['accuracy'], label='train')\n",
        "plt.plot(model_6_history.history['val_accuracy'], label='val_test')\n",
        "plt.legend()\n",
        "plt.show();"
      ],
      "metadata": {
        "colab": {
          "base_uri": "https://localhost:8080/",
          "height": 452
        },
        "id": "XZdbyUfvdlGW",
        "outputId": "f8f46aa3-a5ca-4b09-923e-7b84223ee581"
      },
      "execution_count": null,
      "outputs": [
        {
          "output_type": "display_data",
          "data": {
            "text/plain": [
              "<Figure size 640x480 with 1 Axes>"
            ],
            "image/png": "[encoded data removed]"
          },
          "metadata": {}
        }
      ]
    },
    {
      "cell_type": "markdown",
      "source": [
        "#### Print out Model Performance Summary"
      ],
      "metadata": {
        "id": "tbJUBHR2H6VN"
      }
    },
    {
      "cell_type": "code",
      "source": [
        "print_score(y_val, y_val_preds, train=False)"
      ],
      "metadata": {
        "colab": {
          "base_uri": "https://localhost:8080/"
        },
        "id": "bwdvBF_Ud4B0",
        "outputId": "567b782a-d313-43bf-cbe3-d0efb812095f"
      },
      "execution_count": null,
      "outputs": [
        {
          "output_type": "stream",
          "name": "stdout",
          "text": [
            "Test Results:\n",
            "================================================\n",
            "Accuracy: 72.94%\n",
            "_______________________________________________\n",
            "Classification Performance:\n",
            "                    0           1           2  accuracy   macro avg  \\\n",
            "precision    0.636364    0.782881    0.659091  0.729381    0.692779   \n",
            "recall       0.570815    0.850340    0.568627  0.729381    0.663261   \n",
            "f1-score     0.601810    0.815217    0.610526  0.729381    0.675851   \n",
            "support    233.000000  441.000000  102.000000  0.729381  776.000000   \n",
            "\n",
            "           weighted avg  \n",
            "precision      0.722617  \n",
            "recall         0.729381  \n",
            "f1-score       0.724235  \n",
            "support      776.000000  \n",
            "_______________________________________________\n",
            "Confusion Matrix: \n",
            " [[133  82  18]\n",
            " [ 54 375  12]\n",
            " [ 22  22  58]]\n",
            "\n"
          ]
        }
      ]
    },
    {
      "cell_type": "markdown",
      "source": [
        "#### Store F1-score to dictionary"
      ],
      "metadata": {
        "id": "4GXH-i7nIAg0"
      }
    },
    {
      "cell_type": "code",
      "source": [
        "f1_score_metrics['TF-Hub Pretrained USE'] = {\n",
        "    'Validation': f1_score(y_val, y_val_preds, average='weighted')\n",
        "}\n",
        "\n",
        "f1_score_metrics"
      ],
      "metadata": {
        "id": "kGCmfKytd9DP",
        "colab": {
          "base_uri": "https://localhost:8080/"
        },
        "outputId": "0e81942a-ce97-4ae5-ff5f-73cdc55fdc14"
      },
      "execution_count": null,
      "outputs": [
        {
          "output_type": "execute_result",
          "data": {
            "text/plain": [
              "{'Naive Bayes': {'Validation': 0.5556632270688487},\n",
              " 'Random Forest': {'Validation': 0.7191239586179475},\n",
              " 'XGBoost': {'Validation': 0.745166915841581},\n",
              " 'SVC': {'Validation': 0.7356302107214523},\n",
              " 'LogisticRegression': {'Validation': 0.7178577306585933},\n",
              " 'RNN-LSTM': {'Validation': 0.7120197796258214},\n",
              " 'TF-Hub Pretrained USE': {'Validation': 0.7242348881865429}}"
            ]
          },
          "metadata": {},
          "execution_count": 292
        }
      ]
    },
    {
      "cell_type": "markdown",
      "metadata": {
        "id": "O_JT79DNT66h"
      },
      "source": [
        "# **Comparison for all Models(based on F1-score)**"
      ]
    },
    {
      "cell_type": "markdown",
      "source": [
        "#### Visualize the F-scores for all models on barplot\n"
      ],
      "metadata": {
        "id": "W_FQtvFHIMMt"
      }
    },
    {
      "cell_type": "code",
      "source": [
        "f1_df = pd.DataFrame(f1_score_metrics)\n",
        "f1_df.plot(kind='barh', figsize=(10,8))"
      ],
      "metadata": {
        "id": "n7qbajkqeo82",
        "colab": {
          "base_uri": "https://localhost:8080/",
          "height": 694
        },
        "outputId": "c3f570ac-660d-4c0b-9e79-9deae0e1770d"
      },
      "execution_count": null,
      "outputs": [
        {
          "output_type": "execute_result",
          "data": {
            "text/plain": [
              "<Axes: >"
            ]
          },
          "metadata": {},
          "execution_count": 302
        },
        {
          "output_type": "display_data",
          "data": {
            "text/plain": [
              "<Figure size 1000x800 with 1 Axes>"
            ],
            "image/png": "[encoded data removed]"
          },
          "metadata": {}
        }
      ]
    },
    {
      "cell_type": "markdown",
      "source": [
        "#### Print out Summary table for F-1 scores for all models"
      ],
      "metadata": {
        "id": "vQdEybw6IeaH"
      }
    },
    {
      "cell_type": "code",
      "source": [
        "#Print the F1 score\n",
        "f1_df"
      ],
      "metadata": {
        "colab": {
          "base_uri": "https://localhost:8080/",
          "height": 81
        },
        "id": "oo8psJjiRO_U",
        "outputId": "bca27ce5-6d63-4d18-99c5-d7ef81e38036"
      },
      "execution_count": null,
      "outputs": [
        {
          "output_type": "execute_result",
          "data": {
            "text/plain": [
              "            Naive Bayes  Random Forest   XGBoost      SVC  LogisticRegression  \\\n",
              "Validation     0.555663       0.719124  0.745167  0.73563            0.717858   \n",
              "\n",
              "            RNN-LSTM  TF-Hub Pretrained USE  \n",
              "Validation   0.71202               0.724235  "
            ],
            "text/html": [
              "\n",
              "  <div id=\"df-76758884-c1a9-4422-b9e6-50d919a2a9d1\" class=\"colab-df-container\">\n",
              "    <div>\n",
              "<style scoped>\n",
              "    .dataframe tbody tr th:only-of-type {\n",
              "        vertical-align: middle;\n",
              "    }\n",
              "\n",
              "    .dataframe tbody tr th {\n",
              "        vertical-align: top;\n",
              "    }\n",
              "\n",
              "    .dataframe thead th {\n",
              "        text-align: right;\n",
              "    }\n",
              "</style>\n",
              "<table border=\"1\" class=\"dataframe\">\n",
              "  <thead>\n",
              "    <tr style=\"text-align: right;\">\n",
              "      <th></th>\n",
              "      <th>Naive Bayes</th>\n",
              "      <th>Random Forest</th>\n",
              "      <th>XGBoost</th>\n",
              "      <th>SVC</th>\n",
              "      <th>LogisticRegression</th>\n",
              "      <th>RNN-LSTM</th>\n",
              "      <th>TF-Hub Pretrained USE</th>\n",
              "    </tr>\n",
              "  </thead>\n",
              "  <tbody>\n",
              "    <tr>\n",
              "      <th>Validation</th>\n",
              "      <td>0.555663</td>\n",
              "      <td>0.719124</td>\n",
              "      <td>0.745167</td>\n",
              "      <td>0.73563</td>\n",
              "      <td>0.717858</td>\n",
              "      <td>0.71202</td>\n",
              "      <td>0.724235</td>\n",
              "    </tr>\n",
              "  </tbody>\n",
              "</table>\n",
              "</div>\n",
              "    <div class=\"colab-df-buttons\">\n",
              "\n",
              "  <div class=\"colab-df-container\">\n",
              "    <button class=\"colab-df-convert\" onclick=\"convertToInteractive('df-76758884-c1a9-4422-b9e6-50d919a2a9d1')\"\n",
              "            title=\"Convert this dataframe to an interactive table.\"\n",
              "            style=\"display:none;\">\n",
              "\n",
              "  <svg xmlns=\"http://www.w3.org/2000/svg\" height=\"24px\" viewBox=\"0 -960 960 960\">\n",
              "    <path d=\"M120-120v-720h720v720H120Zm60-500h600v-160H180v160Zm220 220h160v-160H400v160Zm0 220h160v-160H400v160ZM180-400h160v-160H180v160Zm440 0h160v-160H620v160ZM180-180h160v-160H180v160Zm440 0h160v-160H620v160Z\"/>\n",
              "  </svg>\n",
              "    </button>\n",
              "\n",
              "  <style>\n",
              "    .colab-df-container {\n",
              "      display:flex;\n",
              "      gap: 12px;\n",
              "    }\n",
              "\n",
              "    .colab-df-convert {\n",
              "      background-color: #E8F0FE;\n",
              "      border: none;\n",
              "      border-radius: 50%;\n",
              "      cursor: pointer;\n",
              "      display: none;\n",
              "      fill: #1967D2;\n",
              "      height: 32px;\n",
              "      padding: 0 0 0 0;\n",
              "      width: 32px;\n",
              "    }\n",
              "\n",
              "    .colab-df-convert:hover {\n",
              "      background-color: #E2EBFA;\n",
              "      box-shadow: 0px 1px 2px rgba(60, 64, 67, 0.3), 0px 1px 3px 1px rgba(60, 64, 67, 0.15);\n",
              "      fill: #174EA6;\n",
              "    }\n",
              "\n",
              "    .colab-df-buttons div {\n",
              "      margin-bottom: 4px;\n",
              "    }\n",
              "\n",
              "    [theme=dark] .colab-df-convert {\n",
              "      background-color: #3B4455;\n",
              "      fill: #D2E3FC;\n",
              "    }\n",
              "\n",
              "    [theme=dark] .colab-df-convert:hover {\n",
              "      background-color: #434B5C;\n",
              "      box-shadow: 0px 1px 3px 1px rgba(0, 0, 0, 0.15);\n",
              "      filter: drop-shadow(0px 1px 2px rgba(0, 0, 0, 0.3));\n",
              "      fill: #FFFFFF;\n",
              "    }\n",
              "  </style>\n",
              "\n",
              "    <script>\n",
              "      const buttonEl =\n",
              "        document.querySelector('#df-76758884-c1a9-4422-b9e6-50d919a2a9d1 button.colab-df-convert');\n",
              "      buttonEl.style.display =\n",
              "        google.colab.kernel.accessAllowed ? 'block' : 'none';\n",
              "\n",
              "      async function convertToInteractive(key) {\n",
              "        const element = document.querySelector('#df-76758884-c1a9-4422-b9e6-50d919a2a9d1');\n",
              "        const dataTable =\n",
              "          await google.colab.kernel.invokeFunction('convertToInteractive',\n",
              "                                                    [key], {});\n",
              "        if (!dataTable) return;\n",
              "\n",
              "        const docLinkHtml = 'Like what you see? Visit the ' +\n",
              "          '<a target=\"_blank\" href=https://colab.research.google.com/notebooks/data_table.ipynb>data table notebook</a>'\n",
              "          + ' to learn more about interactive tables.';\n",
              "        element.innerHTML = '';\n",
              "        dataTable['output_type'] = 'display_data';\n",
              "        await google.colab.output.renderOutput(dataTable, element);\n",
              "        const docLink = document.createElement('div');\n",
              "        docLink.innerHTML = docLinkHtml;\n",
              "        element.appendChild(docLink);\n",
              "      }\n",
              "    </script>\n",
              "  </div>\n",
              "\n",
              "    </div>\n",
              "  </div>\n"
            ]
          },
          "metadata": {},
          "execution_count": 310
        }
      ]
    },
    {
      "cell_type": "markdown",
      "source": [
        "# **Insights:**\n",
        "\n",
        "## Based on F1 score, here are some of the model comparison results:\n",
        "\n",
        "#### -- Majority of the models can achieve a F1 score in 0.7 - 0.75 range on this small dataset (4000+ news) out of box -- which is not bad but can be bettter, either through supplying more training data or tuning some of the hyper parameters.\n",
        "\n",
        "#### -- In this analysis, a few classic ML methods such as XGBoost, linear kernel SVC, random forest robustly perform equally well with the  RNN-LSTM method.   \n",
        "\n",
        "#### -- Tensorflow Hub Pretrained USE model performs somewhat better than RNN-LSTM model here. This is also in line with a seperate analysis I perfored with more complicated datasets, which indicates the pretrained model with sentence level embedding performs overall better than models with custom embedding at word level for this type of text classification.\n",
        "\n",
        "### **Top 3 models:** : F1 >= 0.72\n",
        " --- XGboost  (scikit-learn)\n",
        "\n",
        " --- SVC(linear kernel)      (scikit-learn)\n",
        "\n",
        " --- TF-Hub Pretrained USE (TensorFlow Hub)\n",
        "\n",
        "\n",
        "### **followed by**:  0.7 <= F1 < 0.72\n",
        " --- Random Forest (scikit-learn)\n",
        "\n",
        " --- LogisticRegression  (scikit-learn)\n",
        "\n",
        " --- RNN-LSTM  (TensorFlow/Keras)\n",
        "\n",
        "### **Significant lower performance**: F1 < 0.6\n",
        "\n",
        " ---  Naive Bayes (scikit-learn)\n"
      ],
      "metadata": {
        "id": "NjCFKA4NdRA6"
      }
    },
    {
      "cell_type": "code",
      "execution_count": null,
      "metadata": {
        "id": "5Bsn7r12UWSX",
        "colab": {
          "base_uri": "https://localhost:8080/"
        },
        "outputId": "0b19045d-e046-435c-9484-069f553aeed9"
      },
      "outputs": [
        {
          "output_type": "stream",
          "name": "stderr",
          "text": [
            "/usr/local/lib/python3.10/dist-packages/keras/src/engine/training.py:3000: UserWarning: You are saving your model as an HDF5 file via `model.save()`. This file format is considered legacy. We recommend using instead the native Keras format, e.g. `model.save('my_model.keras')`.\n",
            "  saving_api.save_model(\n"
          ]
        }
      ],
      "source": [
        "# Save TF Hub Sentence Encoder model to HDF5 format\n",
        "model_6.save(\"model_6.h5\")"
      ]
    },
    {
      "cell_type": "code",
      "execution_count": null,
      "metadata": {
        "id": "MB8wHShLUYw_"
      },
      "outputs": [],
      "source": [
        "# Load model with custom Hub Layer (required with HDF5 format)\n",
        "loaded_model_6 = tf.keras.models.load_model(\"model_6.h5\",\n",
        "                                            custom_objects={\"KerasLayer\": hub.KerasLayer})"
      ]
    },
    {
      "cell_type": "code",
      "execution_count": null,
      "metadata": {
        "id": "JH64LTu5UaiQ",
        "colab": {
          "base_uri": "https://localhost:8080/"
        },
        "outputId": "4337e9f5-7500-4051-d994-9f855bcbf33a"
      },
      "outputs": [
        {
          "output_type": "stream",
          "name": "stdout",
          "text": [
            "25/25 [==============================] - 1s 14ms/step - loss: 0.7731 - accuracy: 0.7294\n"
          ]
        },
        {
          "output_type": "execute_result",
          "data": {
            "text/plain": [
              "[0.7731349468231201, 0.7293814420700073]"
            ]
          },
          "metadata": {},
          "execution_count": 313
        }
      ],
      "source": [
        "# How does our loaded model perform?\n",
        "loaded_model_6.evaluate(X_val, y_val)"
      ]
    },
    {
      "cell_type": "markdown",
      "metadata": {
        "id": "DqXj_MAOUnVk"
      },
      "source": [
        "# **Finally: Making Predictions on the Test Data**\n"
      ]
    },
    {
      "cell_type": "markdown",
      "source": [
        "#### Please note: this test data has been set aside earlier. Test data is never been seen by algorithm before up to this point.\n",
        "\n",
        "#### All Models are trained on training set and validated on validation set but never on this test set, until now.\n",
        "\n"
      ],
      "metadata": {
        "id": "z3it4eeTOule"
      }
    },
    {
      "cell_type": "code",
      "source": [
        "test_df.head()"
      ],
      "metadata": {
        "colab": {
          "base_uri": "https://localhost:8080/",
          "height": 206
        },
        "id": "nKZ08aYyUHQa",
        "outputId": "da7dd7ee-90ad-4936-b617-6b572eb2469e"
      },
      "execution_count": null,
      "outputs": [
        {
          "output_type": "execute_result",
          "data": {
            "text/plain": [
              "      sentiment                                               text\n",
              "201           0  finnish software developer done solutions oyj ...\n",
              "3208          1  the company will also shut one paper machine i...\n",
              "1332          1  sarantel , based in wellingborough , uk , desi...\n",
              "3016          1  ( adp news ) - nov 3 , 2008 - finnish paper , ...\n",
              "3502          0  according to finnish aktia bank 's managing di..."
            ],
            "text/html": [
              "\n",
              "  <div id=\"df-a07c1a97-59f5-4aee-b922-082aa74bd62e\" class=\"colab-df-container\">\n",
              "    <div>\n",
              "<style scoped>\n",
              "    .dataframe tbody tr th:only-of-type {\n",
              "        vertical-align: middle;\n",
              "    }\n",
              "\n",
              "    .dataframe tbody tr th {\n",
              "        vertical-align: top;\n",
              "    }\n",
              "\n",
              "    .dataframe thead th {\n",
              "        text-align: right;\n",
              "    }\n",
              "</style>\n",
              "<table border=\"1\" class=\"dataframe\">\n",
              "  <thead>\n",
              "    <tr style=\"text-align: right;\">\n",
              "      <th></th>\n",
              "      <th>sentiment</th>\n",
              "      <th>text</th>\n",
              "    </tr>\n",
              "  </thead>\n",
              "  <tbody>\n",
              "    <tr>\n",
              "      <th>201</th>\n",
              "      <td>0</td>\n",
              "      <td>finnish software developer done solutions oyj ...</td>\n",
              "    </tr>\n",
              "    <tr>\n",
              "      <th>3208</th>\n",
              "      <td>1</td>\n",
              "      <td>the company will also shut one paper machine i...</td>\n",
              "    </tr>\n",
              "    <tr>\n",
              "      <th>1332</th>\n",
              "      <td>1</td>\n",
              "      <td>sarantel , based in wellingborough , uk , desi...</td>\n",
              "    </tr>\n",
              "    <tr>\n",
              "      <th>3016</th>\n",
              "      <td>1</td>\n",
              "      <td>( adp news ) - nov 3 , 2008 - finnish paper , ...</td>\n",
              "    </tr>\n",
              "    <tr>\n",
              "      <th>3502</th>\n",
              "      <td>0</td>\n",
              "      <td>according to finnish aktia bank 's managing di...</td>\n",
              "    </tr>\n",
              "  </tbody>\n",
              "</table>\n",
              "</div>\n",
              "    <div class=\"colab-df-buttons\">\n",
              "\n",
              "  <div class=\"colab-df-container\">\n",
              "    <button class=\"colab-df-convert\" onclick=\"convertToInteractive('df-a07c1a97-59f5-4aee-b922-082aa74bd62e')\"\n",
              "            title=\"Convert this dataframe to an interactive table.\"\n",
              "            style=\"display:none;\">\n",
              "\n",
              "  <svg xmlns=\"http://www.w3.org/2000/svg\" height=\"24px\" viewBox=\"0 -960 960 960\">\n",
              "    <path d=\"M120-120v-720h720v720H120Zm60-500h600v-160H180v160Zm220 220h160v-160H400v160Zm0 220h160v-160H400v160ZM180-400h160v-160H180v160Zm440 0h160v-160H620v160ZM180-180h160v-160H180v160Zm440 0h160v-160H620v160Z\"/>\n",
              "  </svg>\n",
              "    </button>\n",
              "\n",
              "  <style>\n",
              "    .colab-df-container {\n",
              "      display:flex;\n",
              "      gap: 12px;\n",
              "    }\n",
              "\n",
              "    .colab-df-convert {\n",
              "      background-color: #E8F0FE;\n",
              "      border: none;\n",
              "      border-radius: 50%;\n",
              "      cursor: pointer;\n",
              "      display: none;\n",
              "      fill: #1967D2;\n",
              "      height: 32px;\n",
              "      padding: 0 0 0 0;\n",
              "      width: 32px;\n",
              "    }\n",
              "\n",
              "    .colab-df-convert:hover {\n",
              "      background-color: #E2EBFA;\n",
              "      box-shadow: 0px 1px 2px rgba(60, 64, 67, 0.3), 0px 1px 3px 1px rgba(60, 64, 67, 0.15);\n",
              "      fill: #174EA6;\n",
              "    }\n",
              "\n",
              "    .colab-df-buttons div {\n",
              "      margin-bottom: 4px;\n",
              "    }\n",
              "\n",
              "    [theme=dark] .colab-df-convert {\n",
              "      background-color: #3B4455;\n",
              "      fill: #D2E3FC;\n",
              "    }\n",
              "\n",
              "    [theme=dark] .colab-df-convert:hover {\n",
              "      background-color: #434B5C;\n",
              "      box-shadow: 0px 1px 3px 1px rgba(0, 0, 0, 0.15);\n",
              "      filter: drop-shadow(0px 1px 2px rgba(0, 0, 0, 0.3));\n",
              "      fill: #FFFFFF;\n",
              "    }\n",
              "  </style>\n",
              "\n",
              "    <script>\n",
              "      const buttonEl =\n",
              "        document.querySelector('#df-a07c1a97-59f5-4aee-b922-082aa74bd62e button.colab-df-convert');\n",
              "      buttonEl.style.display =\n",
              "        google.colab.kernel.accessAllowed ? 'block' : 'none';\n",
              "\n",
              "      async function convertToInteractive(key) {\n",
              "        const element = document.querySelector('#df-a07c1a97-59f5-4aee-b922-082aa74bd62e');\n",
              "        const dataTable =\n",
              "          await google.colab.kernel.invokeFunction('convertToInteractive',\n",
              "                                                    [key], {});\n",
              "        if (!dataTable) return;\n",
              "\n",
              "        const docLinkHtml = 'Like what you see? Visit the ' +\n",
              "          '<a target=\"_blank\" href=https://colab.research.google.com/notebooks/data_table.ipynb>data table notebook</a>'\n",
              "          + ' to learn more about interactive tables.';\n",
              "        element.innerHTML = '';\n",
              "        dataTable['output_type'] = 'display_data';\n",
              "        await google.colab.output.renderOutput(dataTable, element);\n",
              "        const docLink = document.createElement('div');\n",
              "        docLink.innerHTML = docLinkHtml;\n",
              "        element.appendChild(docLink);\n",
              "      }\n",
              "    </script>\n",
              "  </div>\n",
              "\n",
              "\n",
              "<div id=\"df-588749d1-06b9-4617-bd35-7c99150b5b39\">\n",
              "  <button class=\"colab-df-quickchart\" onclick=\"quickchart('df-588749d1-06b9-4617-bd35-7c99150b5b39')\"\n",
              "            title=\"Suggest charts.\"\n",
              "            style=\"display:none;\">\n",
              "\n",
              "<svg xmlns=\"http://www.w3.org/2000/svg\" height=\"24px\"viewBox=\"0 0 24 24\"\n",
              "     width=\"24px\">\n",
              "    <g>\n",
              "        <path d=\"M19 3H5c-1.1 0-2 .9-2 2v14c0 1.1.9 2 2 2h14c1.1 0 2-.9 2-2V5c0-1.1-.9-2-2-2zM9 17H7v-7h2v7zm4 0h-2V7h2v10zm4 0h-2v-4h2v4z\"/>\n",
              "    </g>\n",
              "</svg>\n",
              "  </button>\n",
              "\n",
              "<style>\n",
              "  .colab-df-quickchart {\n",
              "      --bg-color: #E8F0FE;\n",
              "      --fill-color: #1967D2;\n",
              "      --hover-bg-color: #E2EBFA;\n",
              "      --hover-fill-color: #174EA6;\n",
              "      --disabled-fill-color: #AAA;\n",
              "      --disabled-bg-color: #DDD;\n",
              "  }\n",
              "\n",
              "  [theme=dark] .colab-df-quickchart {\n",
              "      --bg-color: #3B4455;\n",
              "      --fill-color: #D2E3FC;\n",
              "      --hover-bg-color: #434B5C;\n",
              "      --hover-fill-color: #FFFFFF;\n",
              "      --disabled-bg-color: #3B4455;\n",
              "      --disabled-fill-color: #666;\n",
              "  }\n",
              "\n",
              "  .colab-df-quickchart {\n",
              "    background-color: var(--bg-color);\n",
              "    border: none;\n",
              "    border-radius: 50%;\n",
              "    cursor: pointer;\n",
              "    display: none;\n",
              "    fill: var(--fill-color);\n",
              "    height: 32px;\n",
              "    padding: 0;\n",
              "    width: 32px;\n",
              "  }\n",
              "\n",
              "  .colab-df-quickchart:hover {\n",
              "    background-color: var(--hover-bg-color);\n",
              "    box-shadow: 0 1px 2px rgba(60, 64, 67, 0.3), 0 1px 3px 1px rgba(60, 64, 67, 0.15);\n",
              "    fill: var(--button-hover-fill-color);\n",
              "  }\n",
              "\n",
              "  .colab-df-quickchart-complete:disabled,\n",
              "  .colab-df-quickchart-complete:disabled:hover {\n",
              "    background-color: var(--disabled-bg-color);\n",
              "    fill: var(--disabled-fill-color);\n",
              "    box-shadow: none;\n",
              "  }\n",
              "\n",
              "  .colab-df-spinner {\n",
              "    border: 2px solid var(--fill-color);\n",
              "    border-color: transparent;\n",
              "    border-bottom-color: var(--fill-color);\n",
              "    animation:\n",
              "      spin 1s steps(1) infinite;\n",
              "  }\n",
              "\n",
              "  @keyframes spin {\n",
              "    0% {\n",
              "      border-color: transparent;\n",
              "      border-bottom-color: var(--fill-color);\n",
              "      border-left-color: var(--fill-color);\n",
              "    }\n",
              "    20% {\n",
              "      border-color: transparent;\n",
              "      border-left-color: var(--fill-color);\n",
              "      border-top-color: var(--fill-color);\n",
              "    }\n",
              "    30% {\n",
              "      border-color: transparent;\n",
              "      border-left-color: var(--fill-color);\n",
              "      border-top-color: var(--fill-color);\n",
              "      border-right-color: var(--fill-color);\n",
              "    }\n",
              "    40% {\n",
              "      border-color: transparent;\n",
              "      border-right-color: var(--fill-color);\n",
              "      border-top-color: var(--fill-color);\n",
              "    }\n",
              "    60% {\n",
              "      border-color: transparent;\n",
              "      border-right-color: var(--fill-color);\n",
              "    }\n",
              "    80% {\n",
              "      border-color: transparent;\n",
              "      border-right-color: var(--fill-color);\n",
              "      border-bottom-color: var(--fill-color);\n",
              "    }\n",
              "    90% {\n",
              "      border-color: transparent;\n",
              "      border-bottom-color: var(--fill-color);\n",
              "    }\n",
              "  }\n",
              "</style>\n",
              "\n",
              "  <script>\n",
              "    async function quickchart(key) {\n",
              "      const quickchartButtonEl =\n",
              "        document.querySelector('#' + key + ' button');\n",
              "      quickchartButtonEl.disabled = true;  // To prevent multiple clicks.\n",
              "      quickchartButtonEl.classList.add('colab-df-spinner');\n",
              "      try {\n",
              "        const charts = await google.colab.kernel.invokeFunction(\n",
              "            'suggestCharts', [key], {});\n",
              "      } catch (error) {\n",
              "        console.error('Error during call to suggestCharts:', error);\n",
              "      }\n",
              "      quickchartButtonEl.classList.remove('colab-df-spinner');\n",
              "      quickchartButtonEl.classList.add('colab-df-quickchart-complete');\n",
              "    }\n",
              "    (() => {\n",
              "      let quickchartButtonEl =\n",
              "        document.querySelector('#df-588749d1-06b9-4617-bd35-7c99150b5b39 button');\n",
              "      quickchartButtonEl.style.display =\n",
              "        google.colab.kernel.accessAllowed ? 'block' : 'none';\n",
              "    })();\n",
              "  </script>\n",
              "</div>\n",
              "    </div>\n",
              "  </div>\n"
            ]
          },
          "metadata": {},
          "execution_count": 84
        }
      ]
    },
    {
      "cell_type": "code",
      "source": [
        "test_df.shape"
      ],
      "metadata": {
        "colab": {
          "base_uri": "https://localhost:8080/"
        },
        "id": "0dZUwYOmUJl5",
        "outputId": "9bf549c3-c088-44ec-e03e-dd4359d33c32"
      },
      "execution_count": null,
      "outputs": [
        {
          "output_type": "execute_result",
          "data": {
            "text/plain": [
              "(970, 2)"
            ]
          },
          "metadata": {},
          "execution_count": 85
        }
      ]
    },
    {
      "cell_type": "markdown",
      "source": [
        "#### Define a custom function to make a prediction of user supplied random sentences"
      ],
      "metadata": {
        "id": "CTJuTyw0NO_t"
      }
    },
    {
      "cell_type": "code",
      "source": [
        "def predict_text_sentiment(model, text_df, nr=5):\n",
        "  \"\"\"\n",
        "  Uses model to make a prediction on sentence with sentiment label.\n",
        "\n",
        "  Returns the sentence, the predicted label and true label and model performance.\n",
        "  \"\"\"\n",
        "  ### Display number of shuffled sentences, nr = number of sentences\n",
        "  random_index = random.randint(0, len(text_df)-nr)\n",
        "\n",
        "  for row in train_df_shuffled[[\"text\", \"sentiment\"]][random_index:random_index+nr].itertuples():\n",
        "          _, text, sentiment = row\n",
        "          pred_prob = model.predict([text])\n",
        "          pred_label = np.argmax(pred_prob, axis=1)\n",
        "          print(f\"Predicted: {pred_label}, Actual: {sentiment} \")\n",
        "          print(f\"Text: {text}\\n\")"
      ],
      "metadata": {
        "id": "9Z8UHZlOUw_x"
      },
      "execution_count": null,
      "outputs": []
    },
    {
      "cell_type": "code",
      "source": [
        "predict_text_sentiment(model_6, test_df,10)"
      ],
      "metadata": {
        "colab": {
          "base_uri": "https://localhost:8080/"
        },
        "id": "1hB1VMwqXie0",
        "outputId": "57d9143f-d588-434b-8228-7a943a420b9c"
      },
      "execution_count": null,
      "outputs": [
        {
          "output_type": "stream",
          "name": "stdout",
          "text": [
            "1/1 [==============================] - 0s 63ms/step\n",
            "Predicted: [1], Actual: 1 \n",
            "Text: the bond has a value of eur150m and a maturity of 4 years .\n",
            "\n",
            "1/1 [==============================] - 0s 72ms/step\n",
            "Predicted: [1], Actual: 1 \n",
            "Text: the company plans to spend the proceeds from the rights offering for strengthening its balance sheet .\n",
            "\n",
            "1/1 [==============================] - 0s 68ms/step\n",
            "Predicted: [2], Actual: 2 \n",
            "Text: adpnews - jul 17 , 2009 - finland-based steel maker rautaruukki oyj ruukki hel : rtrks said today it slipped to a net loss of eur 184 million usd 259.7 m for the first half of 2009 from a net profit of eur 2\n",
            "\n",
            "1/1 [==============================] - 0s 42ms/step\n",
            "Predicted: [2], Actual: 2 \n",
            "Text: `` we cut our frequency to new york last year , which eplains the fall , '' he said .\n",
            "\n",
            "1/1 [==============================] - 0s 50ms/step\n",
            "Predicted: [1], Actual: 1 \n",
            "Text: estonia 's agriculture minister helir-valdor seeder is in finland on a two-day visit , in the course of which he will meet with his finnish counterpart sirkka-liisa anttila .\n",
            "\n",
            "1/1 [==============================] - 0s 41ms/step\n",
            "Predicted: [2], Actual: 2 \n",
            "Text: in the first half of 2008 , the bank 's operating profit fell to eur 11.8 mn from eur 18.9 mn , while net interest income increased to eur 20.9 mn from eur 18.8 mn in the first half of 2007 .\n",
            "\n",
            "1/1 [==============================] - 0s 39ms/step\n",
            "Predicted: [1], Actual: 1 \n",
            "Text: kirsi rantanen was previously development director for hk ruokatalo 's poultry business .\n",
            "\n",
            "1/1 [==============================] - 0s 46ms/step\n",
            "Predicted: [1], Actual: 1 \n",
            "Text: aleandria , va. , march 28 -- pertti salmi and hanna vuolteenaho , both of oulu , finland , and sami viitasaari of ii , finland , have developed an ornamental design for a handset , the u.s. patent & trademark office announced .\n",
            "\n",
            "1/1 [==============================] - 0s 43ms/step\n",
            "Predicted: [0], Actual: 0 \n",
            "Text: more staff has been recruited in japan to further complement its network of close to 50 service locations in more than 20 countries worldwide .\n",
            "\n",
            "1/1 [==============================] - 0s 53ms/step\n",
            "Predicted: [1], Actual: 1 \n",
            "Text: according to finnish fim bank , alpro 's price would be around eur 100mn-150mn .\n",
            "\n"
          ]
        }
      ]
    },
    {
      "cell_type": "code",
      "source": [
        "test_df.head()"
      ],
      "metadata": {
        "colab": {
          "base_uri": "https://localhost:8080/",
          "height": 206
        },
        "id": "rvmhD5J2ab6h",
        "outputId": "053121ac-b178-4c20-fea5-01dbbde1ec30"
      },
      "execution_count": null,
      "outputs": [
        {
          "output_type": "execute_result",
          "data": {
            "text/plain": [
              "      sentiment                                               text\n",
              "201           0  finnish software developer done solutions oyj ...\n",
              "3208          1  the company will also shut one paper machine i...\n",
              "1332          1  sarantel , based in wellingborough , uk , desi...\n",
              "3016          1  ( adp news ) - nov 3 , 2008 - finnish paper , ...\n",
              "3502          0  according to finnish aktia bank 's managing di..."
            ],
            "text/html": [
              "\n",
              "  <div id=\"df-c8fdfe9d-0e75-4c61-afc4-f7d77ed61097\" class=\"colab-df-container\">\n",
              "    <div>\n",
              "<style scoped>\n",
              "    .dataframe tbody tr th:only-of-type {\n",
              "        vertical-align: middle;\n",
              "    }\n",
              "\n",
              "    .dataframe tbody tr th {\n",
              "        vertical-align: top;\n",
              "    }\n",
              "\n",
              "    .dataframe thead th {\n",
              "        text-align: right;\n",
              "    }\n",
              "</style>\n",
              "<table border=\"1\" class=\"dataframe\">\n",
              "  <thead>\n",
              "    <tr style=\"text-align: right;\">\n",
              "      <th></th>\n",
              "      <th>sentiment</th>\n",
              "      <th>text</th>\n",
              "    </tr>\n",
              "  </thead>\n",
              "  <tbody>\n",
              "    <tr>\n",
              "      <th>201</th>\n",
              "      <td>0</td>\n",
              "      <td>finnish software developer done solutions oyj ...</td>\n",
              "    </tr>\n",
              "    <tr>\n",
              "      <th>3208</th>\n",
              "      <td>1</td>\n",
              "      <td>the company will also shut one paper machine i...</td>\n",
              "    </tr>\n",
              "    <tr>\n",
              "      <th>1332</th>\n",
              "      <td>1</td>\n",
              "      <td>sarantel , based in wellingborough , uk , desi...</td>\n",
              "    </tr>\n",
              "    <tr>\n",
              "      <th>3016</th>\n",
              "      <td>1</td>\n",
              "      <td>( adp news ) - nov 3 , 2008 - finnish paper , ...</td>\n",
              "    </tr>\n",
              "    <tr>\n",
              "      <th>3502</th>\n",
              "      <td>0</td>\n",
              "      <td>according to finnish aktia bank 's managing di...</td>\n",
              "    </tr>\n",
              "  </tbody>\n",
              "</table>\n",
              "</div>\n",
              "    <div class=\"colab-df-buttons\">\n",
              "\n",
              "  <div class=\"colab-df-container\">\n",
              "    <button class=\"colab-df-convert\" onclick=\"convertToInteractive('df-c8fdfe9d-0e75-4c61-afc4-f7d77ed61097')\"\n",
              "            title=\"Convert this dataframe to an interactive table.\"\n",
              "            style=\"display:none;\">\n",
              "\n",
              "  <svg xmlns=\"http://www.w3.org/2000/svg\" height=\"24px\" viewBox=\"0 -960 960 960\">\n",
              "    <path d=\"M120-120v-720h720v720H120Zm60-500h600v-160H180v160Zm220 220h160v-160H400v160Zm0 220h160v-160H400v160ZM180-400h160v-160H180v160Zm440 0h160v-160H620v160ZM180-180h160v-160H180v160Zm440 0h160v-160H620v160Z\"/>\n",
              "  </svg>\n",
              "    </button>\n",
              "\n",
              "  <style>\n",
              "    .colab-df-container {\n",
              "      display:flex;\n",
              "      gap: 12px;\n",
              "    }\n",
              "\n",
              "    .colab-df-convert {\n",
              "      background-color: #E8F0FE;\n",
              "      border: none;\n",
              "      border-radius: 50%;\n",
              "      cursor: pointer;\n",
              "      display: none;\n",
              "      fill: #1967D2;\n",
              "      height: 32px;\n",
              "      padding: 0 0 0 0;\n",
              "      width: 32px;\n",
              "    }\n",
              "\n",
              "    .colab-df-convert:hover {\n",
              "      background-color: #E2EBFA;\n",
              "      box-shadow: 0px 1px 2px rgba(60, 64, 67, 0.3), 0px 1px 3px 1px rgba(60, 64, 67, 0.15);\n",
              "      fill: #174EA6;\n",
              "    }\n",
              "\n",
              "    .colab-df-buttons div {\n",
              "      margin-bottom: 4px;\n",
              "    }\n",
              "\n",
              "    [theme=dark] .colab-df-convert {\n",
              "      background-color: #3B4455;\n",
              "      fill: #D2E3FC;\n",
              "    }\n",
              "\n",
              "    [theme=dark] .colab-df-convert:hover {\n",
              "      background-color: #434B5C;\n",
              "      box-shadow: 0px 1px 3px 1px rgba(0, 0, 0, 0.15);\n",
              "      filter: drop-shadow(0px 1px 2px rgba(0, 0, 0, 0.3));\n",
              "      fill: #FFFFFF;\n",
              "    }\n",
              "  </style>\n",
              "\n",
              "    <script>\n",
              "      const buttonEl =\n",
              "        document.querySelector('#df-c8fdfe9d-0e75-4c61-afc4-f7d77ed61097 button.colab-df-convert');\n",
              "      buttonEl.style.display =\n",
              "        google.colab.kernel.accessAllowed ? 'block' : 'none';\n",
              "\n",
              "      async function convertToInteractive(key) {\n",
              "        const element = document.querySelector('#df-c8fdfe9d-0e75-4c61-afc4-f7d77ed61097');\n",
              "        const dataTable =\n",
              "          await google.colab.kernel.invokeFunction('convertToInteractive',\n",
              "                                                    [key], {});\n",
              "        if (!dataTable) return;\n",
              "\n",
              "        const docLinkHtml = 'Like what you see? Visit the ' +\n",
              "          '<a target=\"_blank\" href=https://colab.research.google.com/notebooks/data_table.ipynb>data table notebook</a>'\n",
              "          + ' to learn more about interactive tables.';\n",
              "        element.innerHTML = '';\n",
              "        dataTable['output_type'] = 'display_data';\n",
              "        await google.colab.output.renderOutput(dataTable, element);\n",
              "        const docLink = document.createElement('div');\n",
              "        docLink.innerHTML = docLinkHtml;\n",
              "        element.appendChild(docLink);\n",
              "      }\n",
              "    </script>\n",
              "  </div>\n",
              "\n",
              "\n",
              "<div id=\"df-a85d12ee-492a-4917-9d2e-2c9e919ba9e3\">\n",
              "  <button class=\"colab-df-quickchart\" onclick=\"quickchart('df-a85d12ee-492a-4917-9d2e-2c9e919ba9e3')\"\n",
              "            title=\"Suggest charts.\"\n",
              "            style=\"display:none;\">\n",
              "\n",
              "<svg xmlns=\"http://www.w3.org/2000/svg\" height=\"24px\"viewBox=\"0 0 24 24\"\n",
              "     width=\"24px\">\n",
              "    <g>\n",
              "        <path d=\"M19 3H5c-1.1 0-2 .9-2 2v14c0 1.1.9 2 2 2h14c1.1 0 2-.9 2-2V5c0-1.1-.9-2-2-2zM9 17H7v-7h2v7zm4 0h-2V7h2v10zm4 0h-2v-4h2v4z\"/>\n",
              "    </g>\n",
              "</svg>\n",
              "  </button>\n",
              "\n",
              "<style>\n",
              "  .colab-df-quickchart {\n",
              "      --bg-color: #E8F0FE;\n",
              "      --fill-color: #1967D2;\n",
              "      --hover-bg-color: #E2EBFA;\n",
              "      --hover-fill-color: #174EA6;\n",
              "      --disabled-fill-color: #AAA;\n",
              "      --disabled-bg-color: #DDD;\n",
              "  }\n",
              "\n",
              "  [theme=dark] .colab-df-quickchart {\n",
              "      --bg-color: #3B4455;\n",
              "      --fill-color: #D2E3FC;\n",
              "      --hover-bg-color: #434B5C;\n",
              "      --hover-fill-color: #FFFFFF;\n",
              "      --disabled-bg-color: #3B4455;\n",
              "      --disabled-fill-color: #666;\n",
              "  }\n",
              "\n",
              "  .colab-df-quickchart {\n",
              "    background-color: var(--bg-color);\n",
              "    border: none;\n",
              "    border-radius: 50%;\n",
              "    cursor: pointer;\n",
              "    display: none;\n",
              "    fill: var(--fill-color);\n",
              "    height: 32px;\n",
              "    padding: 0;\n",
              "    width: 32px;\n",
              "  }\n",
              "\n",
              "  .colab-df-quickchart:hover {\n",
              "    background-color: var(--hover-bg-color);\n",
              "    box-shadow: 0 1px 2px rgba(60, 64, 67, 0.3), 0 1px 3px 1px rgba(60, 64, 67, 0.15);\n",
              "    fill: var(--button-hover-fill-color);\n",
              "  }\n",
              "\n",
              "  .colab-df-quickchart-complete:disabled,\n",
              "  .colab-df-quickchart-complete:disabled:hover {\n",
              "    background-color: var(--disabled-bg-color);\n",
              "    fill: var(--disabled-fill-color);\n",
              "    box-shadow: none;\n",
              "  }\n",
              "\n",
              "  .colab-df-spinner {\n",
              "    border: 2px solid var(--fill-color);\n",
              "    border-color: transparent;\n",
              "    border-bottom-color: var(--fill-color);\n",
              "    animation:\n",
              "      spin 1s steps(1) infinite;\n",
              "  }\n",
              "\n",
              "  @keyframes spin {\n",
              "    0% {\n",
              "      border-color: transparent;\n",
              "      border-bottom-color: var(--fill-color);\n",
              "      border-left-color: var(--fill-color);\n",
              "    }\n",
              "    20% {\n",
              "      border-color: transparent;\n",
              "      border-left-color: var(--fill-color);\n",
              "      border-top-color: var(--fill-color);\n",
              "    }\n",
              "    30% {\n",
              "      border-color: transparent;\n",
              "      border-left-color: var(--fill-color);\n",
              "      border-top-color: var(--fill-color);\n",
              "      border-right-color: var(--fill-color);\n",
              "    }\n",
              "    40% {\n",
              "      border-color: transparent;\n",
              "      border-right-color: var(--fill-color);\n",
              "      border-top-color: var(--fill-color);\n",
              "    }\n",
              "    60% {\n",
              "      border-color: transparent;\n",
              "      border-right-color: var(--fill-color);\n",
              "    }\n",
              "    80% {\n",
              "      border-color: transparent;\n",
              "      border-right-color: var(--fill-color);\n",
              "      border-bottom-color: var(--fill-color);\n",
              "    }\n",
              "    90% {\n",
              "      border-color: transparent;\n",
              "      border-bottom-color: var(--fill-color);\n",
              "    }\n",
              "  }\n",
              "</style>\n",
              "\n",
              "  <script>\n",
              "    async function quickchart(key) {\n",
              "      const quickchartButtonEl =\n",
              "        document.querySelector('#' + key + ' button');\n",
              "      quickchartButtonEl.disabled = true;  // To prevent multiple clicks.\n",
              "      quickchartButtonEl.classList.add('colab-df-spinner');\n",
              "      try {\n",
              "        const charts = await google.colab.kernel.invokeFunction(\n",
              "            'suggestCharts', [key], {});\n",
              "      } catch (error) {\n",
              "        console.error('Error during call to suggestCharts:', error);\n",
              "      }\n",
              "      quickchartButtonEl.classList.remove('colab-df-spinner');\n",
              "      quickchartButtonEl.classList.add('colab-df-quickchart-complete');\n",
              "    }\n",
              "    (() => {\n",
              "      let quickchartButtonEl =\n",
              "        document.querySelector('#df-a85d12ee-492a-4917-9d2e-2c9e919ba9e3 button');\n",
              "      quickchartButtonEl.style.display =\n",
              "        google.colab.kernel.accessAllowed ? 'block' : 'none';\n",
              "    })();\n",
              "  </script>\n",
              "</div>\n",
              "    </div>\n",
              "  </div>\n"
            ]
          },
          "metadata": {},
          "execution_count": 90
        }
      ]
    },
    {
      "cell_type": "code",
      "source": [
        "test_sentences = test_df['text']\n",
        "test_sentences = test_sentences.to_numpy()\n",
        "\n",
        "test_labels = test_df['sentiment']\n",
        "test_labels = test_labels.to_numpy()"
      ],
      "metadata": {
        "id": "fisaHJZybGG0"
      },
      "execution_count": null,
      "outputs": []
    },
    {
      "cell_type": "code",
      "source": [
        "test_sentences.head()"
      ],
      "metadata": {
        "colab": {
          "base_uri": "https://localhost:8080/"
        },
        "id": "zsnRrHzna7by",
        "outputId": "c2aabed6-ca8e-4271-cec5-04b35fe11032"
      },
      "execution_count": null,
      "outputs": [
        {
          "output_type": "execute_result",
          "data": {
            "text/plain": [
              "201     finnish software developer done solutions oyj ...\n",
              "3208    the company will also shut one paper machine i...\n",
              "1332    sarantel , based in wellingborough , uk , desi...\n",
              "3016    ( adp news ) - nov 3 , 2008 - finnish paper , ...\n",
              "3502    according to finnish aktia bank 's managing di...\n",
              "Name: text, dtype: object"
            ]
          },
          "metadata": {},
          "execution_count": 365
        }
      ]
    },
    {
      "cell_type": "code",
      "source": [
        "test_labels[:10]"
      ],
      "metadata": {
        "colab": {
          "base_uri": "https://localhost:8080/"
        },
        "id": "gsD3kY6oa82K",
        "outputId": "47a47ac5-0eee-4f6d-ac90-76bfa2d2611d"
      },
      "execution_count": null,
      "outputs": [
        {
          "output_type": "execute_result",
          "data": {
            "text/plain": [
              "201     0\n",
              "3208    1\n",
              "1332    1\n",
              "3016    1\n",
              "3502    0\n",
              "2708    1\n",
              "1934    1\n",
              "935     0\n",
              "2418    1\n",
              "566     0\n",
              "Name: sentiment, dtype: int64"
            ]
          },
          "metadata": {},
          "execution_count": 367
        }
      ]
    },
    {
      "cell_type": "markdown",
      "source": [
        "## Make predictions on all Test data\n",
        "\n",
        "Please note: Test data is never been seem before during model training and validation"
      ],
      "metadata": {
        "id": "J5r3EJqDN5wz"
      }
    },
    {
      "cell_type": "code",
      "source": [
        "# Make predictions on the selected test sentences\n",
        "test_preds_prob = model_6.predict(test_sentences)\n",
        "display(test_preds_prob[:3])\n",
        "\n",
        "### generate prediction labels based on probabilty using numpy's argmax function\n",
        "test_preds = np.argmax(test_preds_prob, axis=1)\n",
        "display(test_preds[:50])"
      ],
      "metadata": {
        "colab": {
          "base_uri": "https://localhost:8080/",
          "height": 146
        },
        "id": "Th0u91waUELi",
        "outputId": "1a3b3f1c-01fc-41b1-ae72-3185456e698e"
      },
      "execution_count": null,
      "outputs": [
        {
          "output_type": "stream",
          "name": "stdout",
          "text": [
            "31/31 [==============================] - 0s 12ms/step\n"
          ]
        },
        {
          "output_type": "display_data",
          "data": {
            "text/plain": [
              "array([[7.3235041e-01, 2.6533723e-01, 2.3123978e-03],\n",
              "       [9.6836999e-02, 9.0079421e-01, 2.3688127e-03],\n",
              "       [1.7176474e-02, 9.8253471e-01, 2.8887606e-04]], dtype=float32)"
            ]
          },
          "metadata": {}
        },
        {
          "output_type": "display_data",
          "data": {
            "text/plain": [
              "array([0, 1, 1, 0, 1, 1, 1, 1, 1, 0, 1, 1, 2, 2, 0, 1, 1, 1, 1, 0, 0, 0,\n",
              "       1, 1, 1, 1, 0, 2, 1, 2, 1, 1, 0, 0, 1, 1, 1, 1, 2, 1, 1, 1, 1, 1,\n",
              "       2, 1, 1, 2, 0, 1])"
            ]
          },
          "metadata": {}
        }
      ]
    },
    {
      "cell_type": "code",
      "source": [
        "print_score(test_labels, test_preds, train=False)"
      ],
      "metadata": {
        "colab": {
          "base_uri": "https://localhost:8080/"
        },
        "id": "BSiPTSPOUghV",
        "outputId": "0962b10a-0cd5-477b-e65e-5154fbac8931"
      },
      "execution_count": null,
      "outputs": [
        {
          "output_type": "stream",
          "name": "stdout",
          "text": [
            "Test Results:\n",
            "================================================\n",
            "Accuracy: 74.12%\n",
            "_______________________________________________\n",
            "Classification Performance:\n",
            "                    0           1           2  accuracy   macro avg  \\\n",
            "precision    0.627193    0.805112    0.620690  0.741237    0.684331   \n",
            "recall       0.562992    0.855688    0.566929  0.741237    0.661870   \n",
            "f1-score     0.593361    0.829630    0.592593  0.741237    0.671861   \n",
            "support    254.000000  589.000000  127.000000  0.741237  970.000000   \n",
            "\n",
            "           weighted avg  \n",
            "precision      0.734377  \n",
            "recall         0.741237  \n",
            "f1-score       0.736727  \n",
            "support      970.000000  \n",
            "_______________________________________________\n",
            "Confusion Matrix: \n",
            " [[143  90  21]\n",
            " [ 62 504  23]\n",
            " [ 23  32  72]]\n",
            "\n"
          ]
        }
      ]
    }
  ],
  "metadata": {
    "colab": {
      "provenance": []
    },
    "kernelspec": {
      "display_name": "Python 3",
      "name": "python3"
    },
    "language_info": {
      "name": "python"
    }
  },
  "nbformat": 4,
  "nbformat_minor": 0
}